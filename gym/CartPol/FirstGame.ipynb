{
 "cells": [
  {
   "cell_type": "code",
   "execution_count": 1,
   "metadata": {
    "scrolled": true
   },
   "outputs": [
    {
     "name": "stdout",
     "output_type": "stream",
     "text": [
      "hdf5 is not supported on this machine (please install/reinstall h5py for optimal experience)\n"
     ]
    }
   ],
   "source": [
    "import gym\n",
    "import random\n",
    "import numpy as np\n",
    "import tflearn\n",
    "from tflearn.layers.core import input_data, dropout, fully_connected\n",
    "from tflearn.layers.estimator import regression\n",
    "from statistics import mean, median\n",
    "from collections import Counter\n",
    "import os"
   ]
  },
  {
   "cell_type": "code",
   "execution_count": 2,
   "metadata": {},
   "outputs": [
    {
     "name": "stderr",
     "output_type": "stream",
     "text": [
      "[2017-07-27 00:23:31,074] Making new env: MyCartPole-v0\n"
     ]
    }
   ],
   "source": [
    "LR = 1e-3\n",
    "gym.envs.register(\n",
    "    id='MyCartPole-v0',\n",
    "    entry_point='gym.envs.classic_control:CartPoleEnv',\n",
    "    tags={'wrapper_config.TimeLimit.max_episode_steps' : 2000},\n",
    ")\n",
    "env = gym.make(\"MyCartPole-v0\")\n",
    "env.reset()\n",
    "goal_steps = 2000\n",
    "score_requirement = 110\n",
    "initial_games = 100000"
   ]
  },
  {
   "cell_type": "code",
   "execution_count": 3,
   "metadata": {
    "collapsed": true
   },
   "outputs": [],
   "source": [
    "def some_random_games():\n",
    "    for episode in range(5):\n",
    "        env.reset()\n",
    "        for t in range(goal_steps):\n",
    "            env.render()\n",
    "            action = env.action_space.sample()\n",
    "            observation, reward, done, info = env.step(action)\n",
    "            if(done):\n",
    "                break"
   ]
  },
  {
   "cell_type": "code",
   "execution_count": 4,
   "metadata": {
    "collapsed": true
   },
   "outputs": [],
   "source": [
    "#some_random_games()"
   ]
  },
  {
   "cell_type": "code",
   "execution_count": 5,
   "metadata": {
    "collapsed": true
   },
   "outputs": [],
   "source": [
    "def inital_population():\n",
    "    train_data = []\n",
    "    scores = []\n",
    "    accepted_scores = []\n",
    "    for _ in range(initial_games):\n",
    "        score = 0\n",
    "        game_memory = []\n",
    "        prev_observation = []\n",
    "        for _ in range(goal_steps):\n",
    "            action = random.randrange(0,2)\n",
    "            #action = env.action_space.sample()\n",
    "            observation, reward, done, info = env.step(action)\n",
    "            if len(prev_observation) > 0:\n",
    "                game_memory.append([prev_observation,action])\n",
    "                \n",
    "            prev_observation = observation\n",
    "            score += reward\n",
    "            if done:\n",
    "                break\n",
    "        if score >= score_requirement:\n",
    "            accepted_scores.append(score)\n",
    "            for data in game_memory:\n",
    "                if data[1] == 1:\n",
    "                    output = [0,1]\n",
    "                elif data[1] == 0:\n",
    "                    output = [1,0]\n",
    "                train_data.append([data[0], output])\n",
    "        env.reset()\n",
    "        scores.append(score)\n",
    "    train_data_save = np.array(train_data)\n",
    "    np.save('saved.npy', train_data_save)\n",
    "    \n",
    "    print('Average accepted score: ', mean(accepted_scores))\n",
    "    print('Median accepted score: ', median(accepted_scores))\n",
    "    print(Counter(accepted_scores))\n",
    "    \n",
    "    return train_data\n",
    "    "
   ]
  },
  {
   "cell_type": "code",
   "execution_count": 6,
   "metadata": {
    "collapsed": true,
    "scrolled": true
   },
   "outputs": [],
   "source": [
    "#inital_population()"
   ]
  },
  {
   "cell_type": "code",
   "execution_count": 7,
   "metadata": {
    "collapsed": true
   },
   "outputs": [],
   "source": [
    "def neural_network_model(input_size):\n",
    "    network = input_data(shape=[None, input_size, 1], name='input')\n",
    "    \n",
    "    network = fully_connected(network, 256, activation='relu')\n",
    "    network = dropout(network, 0.8)\n",
    "    network = fully_connected(network, 512, activation='relu')\n",
    "    network = dropout(network, 0.8)\n",
    "    network = fully_connected(network, 1024, activation='relu')\n",
    "    network = dropout(network, 0.8)\n",
    "    network = fully_connected(network, 512, activation='relu')\n",
    "    network = dropout(network, 0.8)\n",
    "    network = fully_connected(network, 256, activation='relu')\n",
    "    network = dropout(network, 0.8)\n",
    "    \n",
    "    network = fully_connected(network, 2, activation='softmax')\n",
    "    network = regression(network, optimizer='adam', learning_rate=LR, loss='categorical_crossentropy', name='targets')\n",
    "    \n",
    "    model = tflearn.DNN(network, tensorboard_dir='log')\n",
    "    \n",
    "    return model"
   ]
  },
  {
   "cell_type": "code",
   "execution_count": 8,
   "metadata": {
    "collapsed": true
   },
   "outputs": [],
   "source": [
    "def train_model(train_data, model=False):\n",
    "    x = np.array([i[0] for i in train_data]).reshape(-1,len(train_data[0][0]), 1)\n",
    "    y = [i[1] for i in train_data]\n",
    "    \n",
    "    if not model:\n",
    "        model = neural_network_model(input_size= len(x[0]))\n",
    "        \n",
    "    model.fit({'input':x}, {'targets':y}, n_epoch=3, snapshot_step=500, show_metric=True,run_id='openaistuff')\n",
    "    \n",
    "    return model"
   ]
  },
  {
   "cell_type": "code",
   "execution_count": null,
   "metadata": {
    "collapsed": true
   },
   "outputs": [],
   "source": []
  },
  {
   "cell_type": "code",
   "execution_count": null,
   "metadata": {
    "collapsed": true,
    "scrolled": true
   },
   "outputs": [],
   "source": []
  },
  {
   "cell_type": "code",
   "execution_count": 9,
   "metadata": {
    "collapsed": true
   },
   "outputs": [],
   "source": [
    "def play_game(visible=True):\n",
    "    scores = []\n",
    "    choices = []\n",
    "\n",
    "    for each_game in range(100):\n",
    "        score = 0\n",
    "        game_memory = []\n",
    "        prev_obs = []\n",
    "        env.reset()\n",
    "        for _ in range(goal_steps):\n",
    "            if visible:\n",
    "                env.render()\n",
    "            if len(prev_obs) == 0:\n",
    "                action = random.randrange(0,2)\n",
    "            else:\n",
    "                action = np.argmax(model.predict(prev_obs.reshape(-1, len(prev_obs), 1))[0])\n",
    "            choices.append(action)\n",
    "\n",
    "            new_obs, reward, done, info = env.step(action)\n",
    "            prev_obs = new_obs\n",
    "            game_memory.append([new_obs, action])\n",
    "            score += reward\n",
    "            if done:\n",
    "                break\n",
    "        scores.append(score)\n",
    "    average_score = sum(scores)/len(scores)\n",
    "    if visible:\n",
    "        print('Scores: ',scores)\n",
    "        print('Average Score ', average_score)\n",
    "        print('Choice 0: {}, Choice 1: {}'.format(choices.count(0)/len(choices), choices.count(1)/len(choices)))\n",
    "    return average_score\n"
   ]
  },
  {
   "cell_type": "code",
   "execution_count": 10,
   "metadata": {
    "collapsed": true
   },
   "outputs": [],
   "source": [
    "#training_data = inital_population()\n",
    "#model = train_model(training_data)\n",
    "#average_score = play_game(False)\n",
    "#while average_score < 300:\n",
    "#    training_data = inital_population()\n",
    "#    model = train_model(training_data, model)\n",
    "#    average_score = play_game(False)\n",
    "#play_game()"
   ]
  },
  {
   "cell_type": "code",
   "execution_count": 11,
   "metadata": {
    "scrolled": true
   },
   "outputs": [
    {
     "name": "stdout",
     "output_type": "stream",
     "text": [
      "Training Step: 146  | total loss: \u001b[1m\u001b[32m0.65725\u001b[0m\u001b[0m | time: 2.890s\n",
      "| Adam | epoch: 003 | loss: 0.65725 - acc: 0.6394 -- iter: 3072/3099\n",
      "Training Step: 147  | total loss: \u001b[1m\u001b[32m0.65724\u001b[0m\u001b[0m | time: 2.964s\n",
      "| Adam | epoch: 003 | loss: 0.65724 - acc: 0.6364 -- iter: 3099/3099\n",
      "--\n",
      "Scores:  [644.0, 372.0, 2000.0, 214.0, 378.0, 388.0, 568.0, 694.0, 877.0, 578.0, 213.0, 594.0, 625.0, 416.0, 715.0, 188.0, 836.0, 2000.0, 2000.0, 385.0, 575.0, 204.0, 209.0, 323.0, 577.0, 662.0, 368.0, 809.0, 840.0, 2000.0, 967.0, 344.0, 245.0, 562.0, 458.0, 383.0, 521.0, 2000.0, 716.0, 2000.0, 409.0, 621.0, 2000.0, 1189.0, 2000.0, 750.0, 408.0, 614.0, 720.0, 2000.0, 203.0, 803.0, 618.0, 2000.0, 2000.0, 414.0, 226.0, 477.0, 622.0, 635.0, 316.0, 772.0, 521.0, 206.0, 427.0, 832.0, 2000.0, 821.0, 2000.0, 526.0, 535.0, 167.0, 233.0, 524.0, 610.0, 961.0, 723.0, 2000.0, 210.0, 820.0, 686.0, 635.0, 774.0, 598.0, 310.0, 2000.0, 448.0, 358.0, 732.0, 625.0, 286.0, 280.0, 582.0, 589.0, 346.0, 646.0, 371.0, 931.0, 414.0, 190.0]\n",
      "Average Score  751.62\n",
      "Choice 0: 0.4962081903089327, Choice 1: 0.5037918096910673\n"
     ]
    },
    {
     "data": {
      "text/plain": [
       "751.62"
      ]
     },
     "execution_count": 11,
     "metadata": {},
     "output_type": "execute_result"
    }
   ],
   "source": [
    "training_data = inital_population()\n",
    "model = train_model(training_data)\n",
    "modelscore = play_game()\n",
    "modelscore"
   ]
  },
  {
   "cell_type": "code",
   "execution_count": 13,
   "metadata": {},
   "outputs": [
    {
     "name": "stdout",
     "output_type": "stream",
     "text": [
      "INFO:tensorflow:/home/jcimbal/Dokumente/Neuronale-Netze/gym/CartPol/models/752/752.model is not in all_model_checkpoint_paths. Manually adding it.\n"
     ]
    },
    {
     "name": "stderr",
     "output_type": "stream",
     "text": [
      "[2017-07-27 00:30:25,717] /home/jcimbal/Dokumente/Neuronale-Netze/gym/CartPol/models/752/752.model is not in all_model_checkpoint_paths. Manually adding it.\n"
     ]
    }
   ],
   "source": [
    "modelscore = int(round(modelscore))\n",
    "if(modelscore > 200):\n",
    "    path = \"models/\" + str(modelscore) + \"/\"\n",
    "    if not os.path.exists(path):\n",
    "        os.makedirs(path)\n",
    "    model.save(path + str(modelscore) + \".model\")"
   ]
  },
  {
   "cell_type": "code",
   "execution_count": null,
   "metadata": {},
   "outputs": [],
   "source": []
  },
  {
   "cell_type": "code",
   "execution_count": null,
   "metadata": {
    "collapsed": true
   },
   "outputs": [],
   "source": []
  },
  {
   "cell_type": "code",
   "execution_count": null,
   "metadata": {
    "collapsed": true
   },
   "outputs": [],
   "source": []
  }
 ],
 "metadata": {
  "kernelspec": {
   "display_name": "Python 3",
   "language": "python",
   "name": "python3"
  },
  "language_info": {
   "codemirror_mode": {
    "name": "ipython",
    "version": 3
   },
   "file_extension": ".py",
   "mimetype": "text/x-python",
   "name": "python",
   "nbconvert_exporter": "python",
   "pygments_lexer": "ipython3",
   "version": "3.5.2"
  }
 },
 "nbformat": 4,
 "nbformat_minor": 2
}
