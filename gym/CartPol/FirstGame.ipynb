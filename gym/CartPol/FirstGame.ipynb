{
 "cells": [
  {
   "cell_type": "code",
   "execution_count": 1,
   "metadata": {
    "collapsed": true,
    "scrolled": true
   },
   "outputs": [],
   "source": [
    "import gym\n",
    "import random\n",
    "import numpy as np\n",
    "import tflearn\n",
    "from tflearn.layers.core import input_data, dropout, fully_connected\n",
    "from tflearn.layers.estimator import regression\n",
    "from statistics import mean, median\n",
    "from collections import Counter\n",
    "import os\n",
    "import sys\n",
    "from ipywidgets import FloatProgress\n",
    "from IPython.display import clear_output\n",
    "from IPython.display import display\n",
    "\n",
    "from tqdm import tqdm\n",
    "from tqdm import trange"
   ]
  },
  {
   "cell_type": "code",
   "execution_count": 2,
   "metadata": {},
   "outputs": [
    {
     "name": "stderr",
     "output_type": "stream",
     "text": [
      "[2017-07-27 13:53:45,209] Making new env: MyCartPole-v0\n"
     ]
    }
   ],
   "source": [
    "LR = 1e-3\n",
    "gym.envs.register(\n",
    "    id='MyCartPole-v0',\n",
    "    entry_point='gym.envs.classic_control:CartPoleEnv',\n",
    "    tags={'wrapper_config.TimeLimit.max_episode_steps' : 2000},\n",
    ")\n",
    "env = gym.make(\"MyCartPole-v0\")\n",
    "env.reset()\n",
    "goal_steps = 2000\n",
    "score_requirement = 100\n",
    "initial_games = 1000000"
   ]
  },
  {
   "cell_type": "code",
   "execution_count": 3,
   "metadata": {
    "collapsed": true
   },
   "outputs": [],
   "source": [
    "def some_random_games():\n",
    "    for episode in range(5):\n",
    "        env.reset()\n",
    "        for t in range(goal_steps):\n",
    "            env.render()\n",
    "            action = env.action_space.sample()\n",
    "            observation, reward, done, info = env.step(action)\n",
    "            if(done):\n",
    "                break"
   ]
  },
  {
   "cell_type": "code",
   "execution_count": 4,
   "metadata": {
    "collapsed": true
   },
   "outputs": [],
   "source": [
    "#some_random_games()"
   ]
  },
  {
   "cell_type": "code",
   "execution_count": 5,
   "metadata": {},
   "outputs": [],
   "source": [
    "def initial_population():\n",
    "    train_data = []\n",
    "    scores = []\n",
    "    accepted_scores = []\n",
    "    progressbar = FloatProgress(min=0, max=initial_games)\n",
    "    display(progressbar)\n",
    "    for index, _ in tqdm(enumerate(range(initial_games)), total=initial_games):\n",
    "        progressbar.value = index\n",
    "        #percent = int((index / initial_games) * 100)\n",
    "        #if not index % 10000:\n",
    "            #print(\"\\r\" + \"Progress:\" + \"[\" + \"\\u2588\"*((percent // 10) + 1) + (\" \"*(9 - (percent // 10))) + \"]\" + str(percent) + \"% - \" + str(index))\n",
    "        \n",
    "        score = 0\n",
    "        game_memory = []\n",
    "        prev_observation = []\n",
    "        for _ in range(goal_steps):\n",
    "            #\n",
    "            action = random.randrange(0,2)\n",
    "\n",
    "            #action = env.action_space.sample()\n",
    "            observation, reward, done, info = env.step(action)\n",
    "            if len(prev_observation) > 0:\n",
    "                game_memory.append([prev_observation,action])\n",
    "                \n",
    "            prev_observation = observation\n",
    "            score += reward\n",
    "            if done:\n",
    "                break\n",
    "        if score >= score_requirement:\n",
    "            accepted_scores.append(score)\n",
    "            for data in game_memory:\n",
    "                if data[1] == 1:\n",
    "                    output = [0,1]\n",
    "                elif data[1] == 0:\n",
    "                    output = [1,0]\n",
    "                train_data.append([data[0], output])\n",
    "        env.reset()\n",
    "        scores.append(score)\n",
    "    train_data_save = np.array(train_data)\n",
    "    np.save('saved.npy', train_data_save)\n",
    "    print('Average accepted score: ', mean(accepted_scores))\n",
    "    print('Median accepted score: ', median(accepted_scores))\n",
    "    print(Counter(accepted_scores))\n",
    "    \n",
    "    return train_data\n",
    "    "
   ]
  },
  {
   "cell_type": "code",
   "execution_count": 6,
   "metadata": {
    "collapsed": true,
    "scrolled": true
   },
   "outputs": [],
   "source": [
    "#initial_population()"
   ]
  },
  {
   "cell_type": "code",
   "execution_count": 7,
   "metadata": {
    "collapsed": true
   },
   "outputs": [],
   "source": [
    "def neural_network_model(input_size):\n",
    "    network = input_data(shape=[None, input_size, 1], name='input')\n",
    "    \n",
    "    network = fully_connected(network, 256, activation='relu')\n",
    "    network = dropout(network, 0.8)\n",
    "    network = fully_connected(network, 512, activation='relu')\n",
    "    network = dropout(network, 0.8)\n",
    "    network = fully_connected(network, 1024, activation='relu')\n",
    "    network = dropout(network, 0.8)\n",
    "    network = fully_connected(network, 512, activation='relu')\n",
    "    network = dropout(network, 0.8)\n",
    "    network = fully_connected(network, 256, activation='relu')\n",
    "    network = dropout(network, 0.8)\n",
    "    \n",
    "    network = fully_connected(network, 2, activation='softmax')\n",
    "    network = regression(network, optimizer='adam', learning_rate=LR, loss='categorical_crossentropy', name='targets')\n",
    "    \n",
    "    model = tflearn.DNN(network, tensorboard_dir='log')\n",
    "    \n",
    "    return model"
   ]
  },
  {
   "cell_type": "code",
   "execution_count": 8,
   "metadata": {
    "collapsed": true
   },
   "outputs": [],
   "source": [
    "def train_model(train_data, model=False):\n",
    "    x = np.array([i[0] for i in train_data]).reshape(-1,len(train_data[0][0]), 1)\n",
    "    y = [i[1] for i in train_data]\n",
    "    \n",
    "    if not model:\n",
    "        model = neural_network_model(input_size= len(x[0]))\n",
    "        \n",
    "    model.fit({'input':x}, {'targets':y}, n_epoch=3, snapshot_step=500, show_metric=True,run_id='openaistuff')\n",
    "    \n",
    "    return model"
   ]
  },
  {
   "cell_type": "code",
   "execution_count": 9,
   "metadata": {
    "collapsed": true
   },
   "outputs": [],
   "source": [
    "def play_game(visible=True):\n",
    "    scores = []\n",
    "    choices = []\n",
    "\n",
    "    for each_game in range(10):\n",
    "        score = 0\n",
    "        game_memory = []\n",
    "        prev_obs = []\n",
    "        env.reset()\n",
    "        for _ in range(goal_steps):\n",
    "            if visible:\n",
    "                env.render()\n",
    "            if len(prev_obs) == 0:\n",
    "                action = random.randrange(0,2)\n",
    "            else:\n",
    "                action = np.argmax(model.predict(prev_obs.reshape(-1, len(prev_obs), 1))[0])\n",
    "            choices.append(action)\n",
    "\n",
    "            new_obs, reward, done, info = env.step(action)\n",
    "            prev_obs = new_obs\n",
    "            game_memory.append([new_obs, action])\n",
    "            score += reward\n",
    "            if done:\n",
    "                break\n",
    "        scores.append(score)\n",
    "    average_score = sum(scores)/len(scores)\n",
    "    if visible:\n",
    "        print('Scores: ',scores)\n",
    "        print('Average Score ', average_score)\n",
    "        print('Choice 0: {}, Choice 1: {}'.format(choices.count(0)/len(choices), choices.count(1)/len(choices)))\n",
    "    return average_score\n"
   ]
  },
  {
   "cell_type": "code",
   "execution_count": null,
   "metadata": {
    "collapsed": true
   },
   "outputs": [],
   "source": [
    "#training_data = initial_population()\n",
    "#model = train_model(training_data)\n",
    "#average_score = play_game(False)\n",
    "#while average_score < 300:\n",
    "#    training_data = initial_population()\n",
    "#    model = train_model(training_data, model)\n",
    "#    average_score = play_game(False)\n",
    "#play_game()"
   ]
  },
  {
   "cell_type": "code",
   "execution_count": null,
   "metadata": {},
   "outputs": [
    {
     "name": "stderr",
     "output_type": "stream",
     "text": [
      "Widget Javascript not detected.  It may not be installed or enabled properly.\n"
     ]
    },
    {
     "data": {
      "application/vnd.jupyter.widget-view+json": {
       "model_id": "21d38eb56c444a2aad89682592007a12"
      }
     },
     "metadata": {},
     "output_type": "display_data"
    },
    {
     "name": "stderr",
     "output_type": "stream",
     "text": [
      "  1%|          | 11433/1000000 [00:20<34:35, 476.30it/s]"
     ]
    }
   ],
   "source": [
    "training_data = initial_population()"
   ]
  },
  {
   "cell_type": "code",
   "execution_count": null,
   "metadata": {},
   "outputs": [],
   "source": [
    "model = train_model(training_data)"
   ]
  },
  {
   "cell_type": "code",
   "execution_count": null,
   "metadata": {},
   "outputs": [],
   "source": [
    "modelscore = play_game()"
   ]
  },
  {
   "cell_type": "code",
   "execution_count": null,
   "metadata": {},
   "outputs": [],
   "source": [
    "modelscore"
   ]
  },
  {
   "cell_type": "code",
   "execution_count": null,
   "metadata": {},
   "outputs": [],
   "source": [
    "modelscore = int(round(modelscore))\n",
    "if(modelscore > 200):\n",
    "    path = \"models/\" + str(modelscore) + \"/\"\n",
    "    if not os.path.exists(path):\n",
    "        os.makedirs(path)\n",
    "    model.save(path + str(modelscore) + \".model\")"
   ]
  },
  {
   "cell_type": "code",
   "execution_count": null,
   "metadata": {
    "collapsed": true
   },
   "outputs": [],
   "source": []
  },
  {
   "cell_type": "code",
   "execution_count": null,
   "metadata": {
    "collapsed": true
   },
   "outputs": [],
   "source": []
  },
  {
   "cell_type": "code",
   "execution_count": null,
   "metadata": {
    "collapsed": true
   },
   "outputs": [],
   "source": []
  }
 ],
 "metadata": {
  "kernelspec": {
   "display_name": "Python 3",
   "language": "python",
   "name": "python3"
  },
  "language_info": {
   "codemirror_mode": {
    "name": "ipython",
    "version": 3
   },
   "file_extension": ".py",
   "mimetype": "text/x-python",
   "name": "python",
   "nbconvert_exporter": "python",
   "pygments_lexer": "ipython3",
   "version": "3.5.2"
  },
  "widgets": {
   "application/vnd.jupyter.widget-state+json": {
    "state": {},
    "version_major": 1,
    "version_minor": 0
   }
  }
 },
 "nbformat": 4,
 "nbformat_minor": 2
}
