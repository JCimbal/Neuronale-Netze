{
 "cells": [
  {
   "cell_type": "code",
   "execution_count": 108,
   "metadata": {
    "collapsed": true
   },
   "outputs": [],
   "source": [
    "import os\n",
    "import tensorflow as tf\n",
    "import numpy as np\n",
    "import matplotlib.pyplot as plt\n",
    "from sklearn.model_selection import train_test_split\n",
    "import csv\n",
    "import pandas as pd"
   ]
  },
  {
   "cell_type": "code",
   "execution_count": 12,
   "metadata": {
    "collapsed": true
   },
   "outputs": [],
   "source": [
    "train_set = []\n",
    "test_set = []"
   ]
  },
  {
   "cell_type": "code",
   "execution_count": 13,
   "metadata": {},
   "outputs": [],
   "source": [
    "with open(\"bupa.data\") as file:\n",
    "    data = file.read().split(\"\\n\")"
   ]
  },
  {
   "cell_type": "code",
   "execution_count": 68,
   "metadata": {},
   "outputs": [
    {
     "data": {
      "text/plain": [
       "['85,92,45,27,31,0.0,1',\n",
       " '85,64,59,32,23,0.0,2',\n",
       " '86,54,33,16,54,0.0,2',\n",
       " '91,78,34,24,36,0.0,2',\n",
       " '87,70,12,28,10,0.0,2',\n",
       " '98,55,13,17,17,0.0,2',\n",
       " '88,62,20,17,9,0.5,1',\n",
       " '88,67,21,11,11,0.5,1',\n",
       " '92,54,22,20,7,0.5,1',\n",
       " '90,60,25,19,5,0.5,1',\n",
       " '89,52,13,24,15,0.5,1',\n",
       " '82,62,17,17,15,0.5,1',\n",
       " '90,64,61,32,13,0.5,1',\n",
       " '86,77,25,19,18,0.5,1',\n",
       " '96,67,29,20,11,0.5,1',\n",
       " '91,78,20,31,18,0.5,1',\n",
       " '89,67,23,16,10,0.5,1',\n",
       " '89,79,17,17,16,0.5,1',\n",
       " '91,107,20,20,56,0.5,1',\n",
       " '94,116,11,33,11,0.5,1',\n",
       " '92,59,35,13,19,0.5,1',\n",
       " '93,23,35,20,20,0.5,1',\n",
       " '90,60,23,27,5,0.5,1',\n",
       " '96,68,18,19,19,0.5,1',\n",
       " '84,80,47,33,97,0.5,1',\n",
       " '92,70,24,13,26,0.5,1',\n",
       " '90,47,28,15,18,0.5,1',\n",
       " '88,66,20,21,10,0.5,1',\n",
       " '91,102,17,13,19,0.5,1',\n",
       " '87,41,31,19,16,0.5,1',\n",
       " '86,79,28,16,17,0.5,1',\n",
       " '91,57,31,23,42,0.5,1',\n",
       " '93,77,32,18,29,0.5,1',\n",
       " '88,96,28,21,40,0.5,1',\n",
       " '94,65,22,18,11,0.5,1',\n",
       " '91,72,155,68,82,0.5,2',\n",
       " '85,54,47,33,22,0.5,2',\n",
       " '79,39,14,19,9,0.5,2',\n",
       " '85,85,25,26,30,0.5,2',\n",
       " '89,63,24,20,38,0.5,2',\n",
       " '84,92,68,37,44,0.5,2',\n",
       " '89,68,26,39,42,0.5,2',\n",
       " '89,101,18,25,13,0.5,2',\n",
       " '86,84,18,14,16,0.5,2',\n",
       " '85,65,25,14,18,0.5,2',\n",
       " '88,61,19,21,13,0.5,2',\n",
       " '92,56,14,16,10,0.5,2',\n",
       " '95,50,29,25,50,0.5,2',\n",
       " '91,75,24,22,11,0.5,2',\n",
       " '83,40,29,25,38,0.5,2',\n",
       " '89,74,19,23,16,0.5,2',\n",
       " '85,64,24,22,11,0.5,2',\n",
       " '92,57,64,36,90,0.5,2',\n",
       " '94,48,11,23,43,0.5,2',\n",
       " '87,52,21,19,30,0.5,2',\n",
       " '85,65,23,29,15,0.5,2',\n",
       " '84,82,21,21,19,0.5,2',\n",
       " '88,49,20,22,19,0.5,2',\n",
       " '96,67,26,26,36,0.5,2',\n",
       " '90,63,24,24,24,0.5,2',\n",
       " '90,45,33,34,27,0.5,2',\n",
       " '90,72,14,15,18,0.5,2',\n",
       " '91,55,4,8,13,0.5,2',\n",
       " '91,52,15,22,11,0.5,2',\n",
       " '87,71,32,19,27,1.0,1',\n",
       " '89,77,26,20,19,1.0,1',\n",
       " '89,67,5,17,14,1.0,2',\n",
       " '85,51,26,24,23,1.0,2',\n",
       " '103,75,19,30,13,1.0,2',\n",
       " '90,63,16,21,14,1.0,2',\n",
       " '90,63,29,23,57,2.0,1',\n",
       " '90,67,35,19,35,2.0,1',\n",
       " '87,66,27,22,9,2.0,1',\n",
       " '90,73,34,21,22,2.0,1',\n",
       " '86,54,20,21,16,2.0,1',\n",
       " '90,80,19,14,42,2.0,1',\n",
       " '87,90,43,28,156,2.0,2',\n",
       " '96,72,28,19,30,2.0,2',\n",
       " '91,55,9,25,16,2.0,2',\n",
       " '95,78,27,25,30,2.0,2',\n",
       " '92,101,34,30,64,2.0,2',\n",
       " '89,51,41,22,48,2.0,2',\n",
       " '91,99,42,33,16,2.0,2',\n",
       " '94,58,21,18,26,2.0,2',\n",
       " '92,60,30,27,297,2.0,2',\n",
       " '94,58,21,18,26,2.0,2',\n",
       " '88,47,33,26,29,2.0,2',\n",
       " '92,65,17,25,9,2.0,2',\n",
       " '92,79,22,20,11,3.0,1',\n",
       " '84,83,20,25,7,3.0,1',\n",
       " '88,68,27,21,26,3.0,1',\n",
       " '86,48,20,20,6,3.0,1',\n",
       " '99,69,45,32,30,3.0,1',\n",
       " '88,66,23,12,15,3.0,1',\n",
       " '89,62,42,30,20,3.0,1',\n",
       " '90,51,23,17,27,3.0,1',\n",
       " '81,61,32,37,53,3.0,2',\n",
       " '89,89,23,18,104,3.0,2',\n",
       " '89,65,26,18,36,3.0,2',\n",
       " '92,75,26,26,24,3.0,2',\n",
       " '85,59,25,20,25,3.0,2',\n",
       " '92,61,18,13,81,3.0,2',\n",
       " '89,63,22,27,10,4.0,1',\n",
       " '90,84,18,23,13,4.0,1',\n",
       " '88,95,25,19,14,4.0,1',\n",
       " '89,35,27,29,17,4.0,1',\n",
       " '91,80,37,23,27,4.0,1',\n",
       " '91,109,33,15,18,4.0,1',\n",
       " '91,65,17,5,7,4.0,1',\n",
       " '88,107,29,20,50,4.0,2',\n",
       " '87,76,22,55,9,4.0,2',\n",
       " '87,86,28,23,21,4.0,2',\n",
       " '87,42,26,23,17,4.0,2',\n",
       " '88,80,24,25,17,4.0,2',\n",
       " '90,96,34,49,169,4.0,2',\n",
       " '86,67,11,15,8,4.0,2',\n",
       " '92,40,19,20,21,4.0,2',\n",
       " '85,60,17,21,14,4.0,2',\n",
       " '89,90,15,17,25,4.0,2',\n",
       " '91,57,15,16,16,4.0,2',\n",
       " '96,55,48,39,42,4.0,2',\n",
       " '79,101,17,27,23,4.0,2',\n",
       " '90,134,14,20,14,4.0,2',\n",
       " '89,76,14,21,24,4.0,2',\n",
       " '88,93,29,27,31,4.0,2',\n",
       " '90,67,10,16,16,4.0,2',\n",
       " '92,73,24,21,48,4.0,2',\n",
       " '91,55,28,28,82,4.0,2',\n",
       " '83,45,19,21,13,4.0,2',\n",
       " '90,74,19,14,22,4.0,2',\n",
       " '92,66,21,16,33,5.0,1',\n",
       " '93,63,26,18,18,5.0,1',\n",
       " '86,78,47,39,107,5.0,2',\n",
       " '97,44,113,45,150,5.0,2',\n",
       " '87,59,15,19,12,5.0,2',\n",
       " '86,44,21,11,15,5.0,2',\n",
       " '87,64,16,20,24,5.0,2',\n",
       " '92,57,21,23,22,5.0,2',\n",
       " '90,70,25,23,112,5.0,2',\n",
       " '99,59,17,19,11,5.0,2',\n",
       " '92,80,10,26,20,6.0,1',\n",
       " '95,60,26,22,28,6.0,1',\n",
       " '91,63,25,26,15,6.0,1',\n",
       " '92,62,37,21,36,6.0,1',\n",
       " '95,50,13,14,15,6.0,1',\n",
       " '90,76,37,19,50,6.0,1',\n",
       " '96,70,70,26,36,6.0,1',\n",
       " '95,62,64,42,76,6.0,1',\n",
       " '92,62,20,23,20,6.0,1',\n",
       " '91,63,25,26,15,6.0,1',\n",
       " '82,56,67,38,92,6.0,2',\n",
       " '92,82,27,24,37,6.0,2',\n",
       " '90,63,12,26,21,6.0,2',\n",
       " '88,37,9,15,16,6.0,2',\n",
       " '100,60,29,23,76,6.0,2',\n",
       " '98,43,35,23,69,6.0,2',\n",
       " '91,74,87,50,67,6.0,2',\n",
       " '92,87,57,25,44,6.0,2',\n",
       " '93,99,36,34,48,6.0,2',\n",
       " '90,72,17,19,19,6.0,2',\n",
       " '97,93,21,20,68,6.0,2',\n",
       " '93,50,18,25,17,6.0,2',\n",
       " '90,57,20,26,33,6.0,2',\n",
       " '92,76,31,28,41,6.0,2',\n",
       " '88,55,19,17,14,6.0,2',\n",
       " '89,63,24,29,29,6.0,2',\n",
       " '92,79,70,32,84,7.0,1',\n",
       " '92,93,58,35,120,7.0,1',\n",
       " '93,84,58,47,62,7.0,2',\n",
       " '97,71,29,22,52,8.0,1',\n",
       " '84,99,33,19,26,8.0,1',\n",
       " '96,44,42,23,73,8.0,1',\n",
       " '90,62,22,21,21,8.0,1',\n",
       " '92,94,18,17,6,8.0,1',\n",
       " '90,67,77,39,114,8.0,1',\n",
       " '97,71,29,22,52,8.0,1',\n",
       " '91,69,25,25,66,8.0,2',\n",
       " '93,59,17,20,14,8.0,2',\n",
       " '92,95,85,48,200,8.0,2',\n",
       " '90,50,26,22,53,8.0,2',\n",
       " '91,62,59,47,60,8.0,2',\n",
       " '92,93,22,28,123,9.0,1',\n",
       " '92,77,86,41,31,10.0,1',\n",
       " '86,66,22,24,26,10.0,2',\n",
       " '98,57,31,34,73,10.0,2',\n",
       " '95,80,50,64,55,10.0,2',\n",
       " '92,108,53,33,94,12.0,2',\n",
       " '97,92,22,28,49,12.0,2',\n",
       " '93,77,39,37,108,16.0,1',\n",
       " '94,83,81,34,201,20.0,1',\n",
       " '87,75,25,21,14,0.0,1',\n",
       " '88,56,23,18,12,0.0,1',\n",
       " '84,97,41,20,32,0.0,2',\n",
       " '94,91,27,20,15,0.5,1',\n",
       " '97,62,17,13,5,0.5,1',\n",
       " '92,85,25,20,12,0.5,1',\n",
       " '82,48,27,15,12,0.5,1',\n",
       " '88,74,31,25,15,0.5,1',\n",
       " '95,77,30,14,21,0.5,1',\n",
       " '88,94,26,18,8,0.5,1',\n",
       " '91,70,19,19,22,0.5,1',\n",
       " '83,54,27,15,12,0.5,1',\n",
       " '91,105,40,26,56,0.5,1',\n",
       " '86,79,37,28,14,0.5,1',\n",
       " '91,96,35,22,135,0.5,1',\n",
       " '89,82,23,14,35,0.5,1',\n",
       " '90,73,24,23,11,0.5,1',\n",
       " '90,87,19,25,19,0.5,1',\n",
       " '89,82,33,32,18,0.5,1',\n",
       " '85,79,17,8,9,0.5,1',\n",
       " '85,119,30,26,17,0.5,1',\n",
       " '78,69,24,18,31,0.5,1',\n",
       " '88,107,34,21,27,0.5,1',\n",
       " '89,115,17,27,7,0.5,1',\n",
       " '92,67,23,15,12,0.5,1',\n",
       " '89,101,27,34,14,0.5,1',\n",
       " '91,84,11,12,10,0.5,1',\n",
       " '94,101,41,20,53,0.5,2',\n",
       " '88,46,29,22,18,0.5,2',\n",
       " '88,122,35,29,42,0.5,2',\n",
       " '84,88,28,25,35,0.5,2',\n",
       " '90,79,18,15,24,0.5,2',\n",
       " '87,69,22,26,11,0.5,2',\n",
       " '65,63,19,20,14,0.5,2',\n",
       " '90,64,12,17,14,0.5,2',\n",
       " '85,58,18,24,16,0.5,2',\n",
       " '88,81,41,27,36,0.5,2',\n",
       " '86,78,52,29,62,0.5,2',\n",
       " '82,74,38,28,48,0.5,2',\n",
       " '86,58,36,27,59,0.5,2',\n",
       " '94,56,30,18,27,0.5,2',\n",
       " '87,57,30,30,22,0.5,2',\n",
       " '98,74,148,75,159,0.5,2',\n",
       " '94,75,20,25,38,0.5,2',\n",
       " '83,68,17,20,71,0.5,2',\n",
       " '93,56,25,21,33,0.5,2',\n",
       " '101,65,18,21,22,0.5,2',\n",
       " '92,65,25,20,31,0.5,2',\n",
       " '92,58,14,16,13,0.5,2',\n",
       " '86,58,16,23,23,0.5,2',\n",
       " '85,62,15,13,22,0.5,2',\n",
       " '86,57,13,20,13,0.5,2',\n",
       " '86,54,26,30,13,0.5,2',\n",
       " '81,41,33,27,34,1.0,1',\n",
       " '91,67,32,26,13,1.0,1',\n",
       " '91,80,21,19,14,1.0,1',\n",
       " '92,60,23,15,19,1.0,1',\n",
       " '91,60,32,14,8,1.0,1',\n",
       " '93,65,28,22,10,1.0,1',\n",
       " '90,63,45,24,85,1.0,2',\n",
       " '87,92,21,22,37,1.0,2',\n",
       " '83,78,31,19,115,1.0,2',\n",
       " '95,62,24,23,14,1.0,2',\n",
       " '93,59,41,30,48,1.0,2',\n",
       " '84,82,43,32,38,2.0,1',\n",
       " '87,71,33,20,22,2.0,1',\n",
       " '86,44,24,15,18,2.0,1',\n",
       " '86,66,28,24,21,2.0,1',\n",
       " '88,58,31,17,17,2.0,1',\n",
       " '90,61,28,29,31,2.0,1',\n",
       " '88,69,70,24,64,2.0,1',\n",
       " '93,87,18,17,26,2.0,1',\n",
       " '98,58,33,21,28,2.0,1',\n",
       " '91,44,18,18,23,2.0,2',\n",
       " '87,75,37,19,70,2.0,2',\n",
       " '94,91,30,26,25,2.0,2',\n",
       " '88,85,14,15,10,2.0,2',\n",
       " '89,109,26,25,27,2.0,2',\n",
       " '87,59,37,27,34,2.0,2',\n",
       " '93,58,20,23,18,2.0,2',\n",
       " '88,57,9,15,16,2.0,2',\n",
       " '94,65,38,27,17,3.0,1',\n",
       " '91,71,12,22,11,3.0,1',\n",
       " '90,55,20,20,16,3.0,1',\n",
       " '91,64,21,17,26,3.0,2',\n",
       " '88,47,35,26,33,3.0,2',\n",
       " '82,72,31,20,84,3.0,2',\n",
       " '85,58,83,49,51,3.0,2',\n",
       " '91,54,25,22,35,4.0,1',\n",
       " '98,50,27,25,53,4.0,2',\n",
       " '86,62,29,21,26,4.0,2',\n",
       " '89,48,32,22,14,4.0,2',\n",
       " '82,68,20,22,9,4.0,2',\n",
       " '83,70,17,19,23,4.0,2',\n",
       " '96,70,21,26,21,4.0,2',\n",
       " '94,117,77,56,52,4.0,2',\n",
       " '93,45,11,14,21,4.0,2',\n",
       " '93,49,27,21,29,4.0,2',\n",
       " '84,73,46,32,39,4.0,2',\n",
       " '91,63,17,17,46,4.0,2',\n",
       " '90,57,31,18,37,4.0,2',\n",
       " '87,45,19,13,16,4.0,2',\n",
       " '91,68,14,20,19,4.0,2',\n",
       " '86,55,29,35,108,4.0,2',\n",
       " '91,86,52,47,52,4.0,2',\n",
       " '88,46,15,33,55,4.0,2',\n",
       " '85,52,22,23,34,4.0,2',\n",
       " '89,72,33,27,55,4.0,2',\n",
       " '95,59,23,18,19,4.0,2',\n",
       " '94,43,154,82,121,4.0,2',\n",
       " '96,56,38,26,23,5.0,2',\n",
       " '90,52,10,17,12,5.0,2',\n",
       " '94,45,20,16,12,5.0,2',\n",
       " '99,42,14,21,49,5.0,2',\n",
       " '93,102,47,23,37,5.0,2',\n",
       " '94,71,25,26,31,5.0,2',\n",
       " '92,73,33,34,115,5.0,2',\n",
       " '87,54,41,29,23,6.0,1',\n",
       " '92,67,15,14,14,6.0,1',\n",
       " '98,101,31,26,32,6.0,1',\n",
       " '92,53,51,33,92,6.0,1',\n",
       " '97,94,43,43,82,6.0,1',\n",
       " '93,43,11,16,54,6.0,1',\n",
       " '93,68,24,18,19,6.0,1',\n",
       " '95,36,38,19,15,6.0,1',\n",
       " '99,86,58,42,203,6.0,1',\n",
       " '98,66,103,57,114,6.0,1',\n",
       " '92,80,10,26,20,6.0,1',\n",
       " '96,74,27,25,43,6.0,2',\n",
       " '95,93,21,27,47,6.0,2',\n",
       " '86,109,16,22,28,6.0,2',\n",
       " '91,46,30,24,39,7.0,2',\n",
       " '102,82,34,78,203,7.0,2',\n",
       " '85,50,12,18,14,7.0,2',\n",
       " '91,57,33,23,12,8.0,1',\n",
       " '91,52,76,32,24,8.0,1',\n",
       " '93,70,46,30,33,8.0,1',\n",
       " '87,55,36,19,25,8.0,1',\n",
       " '98,123,28,24,31,8.0,1',\n",
       " '82,55,18,23,44,8.0,2',\n",
       " '95,73,20,25,225,8.0,2',\n",
       " '97,80,17,20,53,8.0,2',\n",
       " '100,83,25,24,28,8.0,2',\n",
       " '88,91,56,35,126,9.0,2',\n",
       " '91,138,45,21,48,10.0,1',\n",
       " '92,41,37,22,37,10.0,1',\n",
       " '86,123,20,25,23,10.0,2',\n",
       " '91,93,35,34,37,10.0,2',\n",
       " '87,87,15,23,11,10.0,2',\n",
       " '87,56,52,43,55,10.0,2',\n",
       " '99,75,26,24,41,12.0,1',\n",
       " '96,69,53,43,203,12.0,2',\n",
       " '98,77,55,35,89,15.0,1',\n",
       " '91,68,27,26,14,16.0,1',\n",
       " '98,99,57,45,65,20.0,1',\n",
       " '']"
      ]
     },
     "execution_count": 68,
     "metadata": {},
     "output_type": "execute_result"
    }
   ],
   "source": [
    "data"
   ]
  },
  {
   "cell_type": "code",
   "execution_count": 126,
   "metadata": {},
   "outputs": [],
   "source": [
    "df = pd.read_csv(\"bupa.data\", header=[-1])"
   ]
  },
  {
   "cell_type": "code",
   "execution_count": 134,
   "metadata": {},
   "outputs": [
    {
     "data": {
      "text/plain": [
       "0      2\n",
       "1      2\n",
       "2      2\n",
       "3      2\n",
       "4      2\n",
       "5      1\n",
       "6      1\n",
       "7      1\n",
       "8      1\n",
       "9      1\n",
       "10     1\n",
       "11     1\n",
       "12     1\n",
       "13     1\n",
       "14     1\n",
       "15     1\n",
       "16     1\n",
       "17     1\n",
       "18     1\n",
       "19     1\n",
       "20     1\n",
       "21     1\n",
       "22     1\n",
       "23     1\n",
       "24     1\n",
       "25     1\n",
       "26     1\n",
       "27     1\n",
       "28     1\n",
       "29     1\n",
       "      ..\n",
       "314    1\n",
       "315    1\n",
       "316    1\n",
       "317    2\n",
       "318    2\n",
       "319    2\n",
       "320    2\n",
       "321    2\n",
       "322    2\n",
       "323    1\n",
       "324    1\n",
       "325    1\n",
       "326    1\n",
       "327    1\n",
       "328    2\n",
       "329    2\n",
       "330    2\n",
       "331    2\n",
       "332    2\n",
       "333    1\n",
       "334    1\n",
       "335    2\n",
       "336    2\n",
       "337    2\n",
       "338    2\n",
       "339    1\n",
       "340    2\n",
       "341    1\n",
       "342    1\n",
       "343    1\n",
       "Name: 6, Length: 344, dtype: int64"
      ]
     },
     "execution_count": 134,
     "metadata": {},
     "output_type": "execute_result"
    }
   ],
   "source": [
    "df[df.columns[-1]]"
   ]
  },
  {
   "cell_type": "code",
   "execution_count": null,
   "metadata": {
    "collapsed": true
   },
   "outputs": [],
   "source": []
  },
  {
   "cell_type": "code",
   "execution_count": null,
   "metadata": {
    "collapsed": true
   },
   "outputs": [],
   "source": []
  },
  {
   "cell_type": "code",
   "execution_count": null,
   "metadata": {
    "collapsed": true
   },
   "outputs": [],
   "source": []
  },
  {
   "cell_type": "code",
   "execution_count": null,
   "metadata": {
    "collapsed": true
   },
   "outputs": [],
   "source": []
  },
  {
   "cell_type": "code",
   "execution_count": null,
   "metadata": {
    "collapsed": true
   },
   "outputs": [],
   "source": []
  },
  {
   "cell_type": "code",
   "execution_count": 77,
   "metadata": {},
   "outputs": [],
   "source": [
    "training, test = train_test_split(data, test_size=0.10, random_state=42)"
   ]
  },
  {
   "cell_type": "code",
   "execution_count": 102,
   "metadata": {},
   "outputs": [],
   "source": [
    "# Define the training inputs\n",
    "def get_train_inputs():\n",
    "    x = tf.constant(training[0:5])\n",
    "    y = tf.constant(training[-1])\n",
    "    #  y = tf.summary.scalar(, training_set.target)\n",
    "    return x, y"
   ]
  },
  {
   "cell_type": "code",
   "execution_count": 103,
   "metadata": {},
   "outputs": [],
   "source": [
    "# Define the test inputs\n",
    "def get_test_inputs():\n",
    "    x = tf.constant(test[0:5])\n",
    "    y = tf.constant(test[-1])\n",
    "    return x, y"
   ]
  },
  {
   "cell_type": "code",
   "execution_count": 92,
   "metadata": {},
   "outputs": [],
   "source": [
    "# Specify that all features have real-value data\n",
    "feature_columns = [tf.contrib.layers.real_valued_column(\"\", dimension=6)]"
   ]
  },
  {
   "cell_type": "code",
   "execution_count": null,
   "metadata": {
    "collapsed": true
   },
   "outputs": [],
   "source": []
  },
  {
   "cell_type": "code",
   "execution_count": 106,
   "metadata": {},
   "outputs": [
    {
     "data": {
      "text/plain": [
       "(<tf.Tensor 'Const_8:0' shape=(5,) dtype=string>,\n",
       " <tf.Tensor 'Const_9:0' shape=() dtype=string>)"
      ]
     },
     "execution_count": 106,
     "metadata": {},
     "output_type": "execute_result"
    }
   ],
   "source": [
    "get_test_inputs()"
   ]
  },
  {
   "cell_type": "code",
   "execution_count": null,
   "metadata": {
    "collapsed": true
   },
   "outputs": [],
   "source": []
  },
  {
   "cell_type": "code",
   "execution_count": 101,
   "metadata": {},
   "outputs": [
    {
     "name": "stdout",
     "output_type": "stream",
     "text": [
      "INFO:tensorflow:Using default config.\n",
      "INFO:tensorflow:Using config: {'_cluster_spec': <tensorflow.python.training.server_lib.ClusterSpec object at 0x7fd25183e208>, '_save_summary_steps': 100, '_tf_config': gpu_options {\n",
      "  per_process_gpu_memory_fraction: 1.0\n",
      "}\n",
      ", '_keep_checkpoint_max': 5, '_num_ps_replicas': 0, '_is_chief': True, '_session_config': None, '_evaluation_master': '', '_model_dir': '/tmp/bupa_model', '_save_checkpoints_secs': 600, '_environment': 'local', '_num_worker_replicas': 0, '_save_checkpoints_steps': None, '_task_type': None, '_keep_checkpoint_every_n_hours': 10000, '_tf_random_seed': None, '_task_id': 0, '_master': ''}\n"
     ]
    }
   ],
   "source": [
    "classifier = tf.contrib.learn.DNNClassifier(feature_columns=feature_columns,\n",
    "                                            hidden_units=[10, 20, 10],\n",
    "                                            n_classes=5,\n",
    "                                            model_dir=\"/tmp/bupa_model\")"
   ]
  },
  {
   "cell_type": "code",
   "execution_count": 97,
   "metadata": {},
   "outputs": [
    {
     "name": "stdout",
     "output_type": "stream",
     "text": [
      "WARNING:tensorflow:Rank of input Tensor (1) should be the same as output_rank (2) for column. Will attempt to expand dims. It is highly recommended that you resize your input, as this behavior may change.\n"
     ]
    },
    {
     "ename": "ValueError",
     "evalue": "Labels dtype should be integer Instead got <dtype: 'string'>.",
     "output_type": "error",
     "traceback": [
      "\u001b[0;31m---------------------------------------------------------------------------\u001b[0m",
      "\u001b[0;31mValueError\u001b[0m                                Traceback (most recent call last)",
      "\u001b[0;32m<ipython-input-97-76de4b0831af>\u001b[0m in \u001b[0;36m<module>\u001b[0;34m()\u001b[0m\n\u001b[0;32m----> 1\u001b[0;31m \u001b[0mclassifier\u001b[0m\u001b[0;34m.\u001b[0m\u001b[0mfit\u001b[0m\u001b[0;34m(\u001b[0m\u001b[0minput_fn\u001b[0m\u001b[0;34m=\u001b[0m\u001b[0mget_train_inputs\u001b[0m\u001b[0;34m,\u001b[0m \u001b[0msteps\u001b[0m\u001b[0;34m=\u001b[0m\u001b[0;36m3000\u001b[0m\u001b[0;34m)\u001b[0m\u001b[0;34m\u001b[0m\u001b[0m\n\u001b[0m",
      "\u001b[0;32m~/.local/lib/python3.5/site-packages/tensorflow/python/util/deprecation.py\u001b[0m in \u001b[0;36mnew_func\u001b[0;34m(*args, **kwargs)\u001b[0m\n\u001b[1;32m    287\u001b[0m             \u001b[0;34m'in a future version'\u001b[0m \u001b[0;32mif\u001b[0m \u001b[0mdate\u001b[0m \u001b[0;32mis\u001b[0m \u001b[0;32mNone\u001b[0m \u001b[0;32melse\u001b[0m \u001b[0;34m(\u001b[0m\u001b[0;34m'after %s'\u001b[0m \u001b[0;34m%\u001b[0m \u001b[0mdate\u001b[0m\u001b[0;34m)\u001b[0m\u001b[0;34m,\u001b[0m\u001b[0;34m\u001b[0m\u001b[0m\n\u001b[1;32m    288\u001b[0m             instructions)\n\u001b[0;32m--> 289\u001b[0;31m       \u001b[0;32mreturn\u001b[0m \u001b[0mfunc\u001b[0m\u001b[0;34m(\u001b[0m\u001b[0;34m*\u001b[0m\u001b[0margs\u001b[0m\u001b[0;34m,\u001b[0m \u001b[0;34m**\u001b[0m\u001b[0mkwargs\u001b[0m\u001b[0;34m)\u001b[0m\u001b[0;34m\u001b[0m\u001b[0m\n\u001b[0m\u001b[1;32m    290\u001b[0m     return tf_decorator.make_decorator(func, new_func, 'deprecated',\n\u001b[1;32m    291\u001b[0m                                        _add_deprecated_arg_notice_to_docstring(\n",
      "\u001b[0;32m~/.local/lib/python3.5/site-packages/tensorflow/contrib/learn/python/learn/estimators/estimator.py\u001b[0m in \u001b[0;36mfit\u001b[0;34m(self, x, y, input_fn, steps, batch_size, monitors, max_steps)\u001b[0m\n\u001b[1;32m    453\u001b[0m       \u001b[0mhooks\u001b[0m\u001b[0;34m.\u001b[0m\u001b[0mappend\u001b[0m\u001b[0;34m(\u001b[0m\u001b[0mbasic_session_run_hooks\u001b[0m\u001b[0;34m.\u001b[0m\u001b[0mStopAtStepHook\u001b[0m\u001b[0;34m(\u001b[0m\u001b[0msteps\u001b[0m\u001b[0;34m,\u001b[0m \u001b[0mmax_steps\u001b[0m\u001b[0;34m)\u001b[0m\u001b[0;34m)\u001b[0m\u001b[0;34m\u001b[0m\u001b[0m\n\u001b[1;32m    454\u001b[0m \u001b[0;34m\u001b[0m\u001b[0m\n\u001b[0;32m--> 455\u001b[0;31m     \u001b[0mloss\u001b[0m \u001b[0;34m=\u001b[0m \u001b[0mself\u001b[0m\u001b[0;34m.\u001b[0m\u001b[0m_train_model\u001b[0m\u001b[0;34m(\u001b[0m\u001b[0minput_fn\u001b[0m\u001b[0;34m=\u001b[0m\u001b[0minput_fn\u001b[0m\u001b[0;34m,\u001b[0m \u001b[0mhooks\u001b[0m\u001b[0;34m=\u001b[0m\u001b[0mhooks\u001b[0m\u001b[0;34m)\u001b[0m\u001b[0;34m\u001b[0m\u001b[0m\n\u001b[0m\u001b[1;32m    456\u001b[0m     \u001b[0mlogging\u001b[0m\u001b[0;34m.\u001b[0m\u001b[0minfo\u001b[0m\u001b[0;34m(\u001b[0m\u001b[0;34m'Loss for final step: %s.'\u001b[0m\u001b[0;34m,\u001b[0m \u001b[0mloss\u001b[0m\u001b[0;34m)\u001b[0m\u001b[0;34m\u001b[0m\u001b[0m\n\u001b[1;32m    457\u001b[0m     \u001b[0;32mreturn\u001b[0m \u001b[0mself\u001b[0m\u001b[0;34m\u001b[0m\u001b[0m\n",
      "\u001b[0;32m~/.local/lib/python3.5/site-packages/tensorflow/contrib/learn/python/learn/estimators/estimator.py\u001b[0m in \u001b[0;36m_train_model\u001b[0;34m(self, input_fn, hooks)\u001b[0m\n\u001b[1;32m    953\u001b[0m       \u001b[0mfeatures\u001b[0m\u001b[0;34m,\u001b[0m \u001b[0mlabels\u001b[0m \u001b[0;34m=\u001b[0m \u001b[0minput_fn\u001b[0m\u001b[0;34m(\u001b[0m\u001b[0;34m)\u001b[0m\u001b[0;34m\u001b[0m\u001b[0m\n\u001b[1;32m    954\u001b[0m       \u001b[0mself\u001b[0m\u001b[0;34m.\u001b[0m\u001b[0m_check_inputs\u001b[0m\u001b[0;34m(\u001b[0m\u001b[0mfeatures\u001b[0m\u001b[0;34m,\u001b[0m \u001b[0mlabels\u001b[0m\u001b[0;34m)\u001b[0m\u001b[0;34m\u001b[0m\u001b[0m\n\u001b[0;32m--> 955\u001b[0;31m       \u001b[0mmodel_fn_ops\u001b[0m \u001b[0;34m=\u001b[0m \u001b[0mself\u001b[0m\u001b[0;34m.\u001b[0m\u001b[0m_get_train_ops\u001b[0m\u001b[0;34m(\u001b[0m\u001b[0mfeatures\u001b[0m\u001b[0;34m,\u001b[0m \u001b[0mlabels\u001b[0m\u001b[0;34m)\u001b[0m\u001b[0;34m\u001b[0m\u001b[0m\n\u001b[0m\u001b[1;32m    956\u001b[0m       \u001b[0mops\u001b[0m\u001b[0;34m.\u001b[0m\u001b[0madd_to_collection\u001b[0m\u001b[0;34m(\u001b[0m\u001b[0mops\u001b[0m\u001b[0;34m.\u001b[0m\u001b[0mGraphKeys\u001b[0m\u001b[0;34m.\u001b[0m\u001b[0mLOSSES\u001b[0m\u001b[0;34m,\u001b[0m \u001b[0mmodel_fn_ops\u001b[0m\u001b[0;34m.\u001b[0m\u001b[0mloss\u001b[0m\u001b[0;34m)\u001b[0m\u001b[0;34m\u001b[0m\u001b[0m\n\u001b[1;32m    957\u001b[0m       all_hooks.extend([\n",
      "\u001b[0;32m~/.local/lib/python3.5/site-packages/tensorflow/contrib/learn/python/learn/estimators/estimator.py\u001b[0m in \u001b[0;36m_get_train_ops\u001b[0;34m(self, features, labels)\u001b[0m\n\u001b[1;32m   1160\u001b[0m       \u001b[0;31m`\u001b[0m\u001b[0mModelFnOps\u001b[0m\u001b[0;31m`\u001b[0m \u001b[0mobject\u001b[0m\u001b[0;34m.\u001b[0m\u001b[0;34m\u001b[0m\u001b[0m\n\u001b[1;32m   1161\u001b[0m     \"\"\"\n\u001b[0;32m-> 1162\u001b[0;31m     \u001b[0;32mreturn\u001b[0m \u001b[0mself\u001b[0m\u001b[0;34m.\u001b[0m\u001b[0m_call_model_fn\u001b[0m\u001b[0;34m(\u001b[0m\u001b[0mfeatures\u001b[0m\u001b[0;34m,\u001b[0m \u001b[0mlabels\u001b[0m\u001b[0;34m,\u001b[0m \u001b[0mmodel_fn_lib\u001b[0m\u001b[0;34m.\u001b[0m\u001b[0mModeKeys\u001b[0m\u001b[0;34m.\u001b[0m\u001b[0mTRAIN\u001b[0m\u001b[0;34m)\u001b[0m\u001b[0;34m\u001b[0m\u001b[0m\n\u001b[0m\u001b[1;32m   1163\u001b[0m \u001b[0;34m\u001b[0m\u001b[0m\n\u001b[1;32m   1164\u001b[0m   \u001b[0;32mdef\u001b[0m \u001b[0m_get_eval_ops\u001b[0m\u001b[0;34m(\u001b[0m\u001b[0mself\u001b[0m\u001b[0;34m,\u001b[0m \u001b[0mfeatures\u001b[0m\u001b[0;34m,\u001b[0m \u001b[0mlabels\u001b[0m\u001b[0;34m,\u001b[0m \u001b[0mmetrics\u001b[0m\u001b[0;34m)\u001b[0m\u001b[0;34m:\u001b[0m\u001b[0;34m\u001b[0m\u001b[0m\n",
      "\u001b[0;32m~/.local/lib/python3.5/site-packages/tensorflow/contrib/learn/python/learn/estimators/estimator.py\u001b[0m in \u001b[0;36m_call_model_fn\u001b[0;34m(self, features, labels, mode)\u001b[0m\n\u001b[1;32m   1131\u001b[0m     \u001b[0;32mif\u001b[0m \u001b[0;34m'model_dir'\u001b[0m \u001b[0;32min\u001b[0m \u001b[0mmodel_fn_args\u001b[0m\u001b[0;34m:\u001b[0m\u001b[0;34m\u001b[0m\u001b[0m\n\u001b[1;32m   1132\u001b[0m       \u001b[0mkwargs\u001b[0m\u001b[0;34m[\u001b[0m\u001b[0;34m'model_dir'\u001b[0m\u001b[0;34m]\u001b[0m \u001b[0;34m=\u001b[0m \u001b[0mself\u001b[0m\u001b[0;34m.\u001b[0m\u001b[0mmodel_dir\u001b[0m\u001b[0;34m\u001b[0m\u001b[0m\n\u001b[0;32m-> 1133\u001b[0;31m     \u001b[0mmodel_fn_results\u001b[0m \u001b[0;34m=\u001b[0m \u001b[0mself\u001b[0m\u001b[0;34m.\u001b[0m\u001b[0m_model_fn\u001b[0m\u001b[0;34m(\u001b[0m\u001b[0mfeatures\u001b[0m\u001b[0;34m,\u001b[0m \u001b[0mlabels\u001b[0m\u001b[0;34m,\u001b[0m \u001b[0;34m**\u001b[0m\u001b[0mkwargs\u001b[0m\u001b[0;34m)\u001b[0m\u001b[0;34m\u001b[0m\u001b[0m\n\u001b[0m\u001b[1;32m   1134\u001b[0m \u001b[0;34m\u001b[0m\u001b[0m\n\u001b[1;32m   1135\u001b[0m     \u001b[0;32mif\u001b[0m \u001b[0misinstance\u001b[0m\u001b[0;34m(\u001b[0m\u001b[0mmodel_fn_results\u001b[0m\u001b[0;34m,\u001b[0m \u001b[0mmodel_fn_lib\u001b[0m\u001b[0;34m.\u001b[0m\u001b[0mModelFnOps\u001b[0m\u001b[0;34m)\u001b[0m\u001b[0;34m:\u001b[0m\u001b[0;34m\u001b[0m\u001b[0m\n",
      "\u001b[0;32m~/.local/lib/python3.5/site-packages/tensorflow/contrib/learn/python/learn/estimators/dnn.py\u001b[0m in \u001b[0;36m_dnn_model_fn\u001b[0;34m(features, labels, mode, params, config)\u001b[0m\n\u001b[1;32m    189\u001b[0m         \u001b[0mlabels\u001b[0m\u001b[0;34m=\u001b[0m\u001b[0mlabels\u001b[0m\u001b[0;34m,\u001b[0m\u001b[0;34m\u001b[0m\u001b[0m\n\u001b[1;32m    190\u001b[0m         \u001b[0mtrain_op_fn\u001b[0m\u001b[0;34m=\u001b[0m\u001b[0m_train_op_fn\u001b[0m\u001b[0;34m,\u001b[0m\u001b[0;34m\u001b[0m\u001b[0m\n\u001b[0;32m--> 191\u001b[0;31m         logits=logits)\n\u001b[0m\u001b[1;32m    192\u001b[0m \u001b[0;34m\u001b[0m\u001b[0m\n\u001b[1;32m    193\u001b[0m \u001b[0;34m\u001b[0m\u001b[0m\n",
      "\u001b[0;32m~/.local/lib/python3.5/site-packages/tensorflow/contrib/learn/python/learn/estimators/head.py\u001b[0m in \u001b[0;36mcreate_model_fn_ops\u001b[0;34m(self, features, mode, labels, train_op_fn, logits, logits_input, scope)\u001b[0m\n\u001b[1;32m   1040\u001b[0m           \u001b[0mhead_name\u001b[0m\u001b[0;34m=\u001b[0m\u001b[0mself\u001b[0m\u001b[0;34m.\u001b[0m\u001b[0mhead_name\u001b[0m\u001b[0;34m,\u001b[0m\u001b[0;34m\u001b[0m\u001b[0m\n\u001b[1;32m   1041\u001b[0m           \u001b[0mweight_column_name\u001b[0m\u001b[0;34m=\u001b[0m\u001b[0mself\u001b[0m\u001b[0;34m.\u001b[0m\u001b[0mweight_column_name\u001b[0m\u001b[0;34m,\u001b[0m\u001b[0;34m\u001b[0m\u001b[0m\n\u001b[0;32m-> 1042\u001b[0;31m           enable_centered_bias=self._enable_centered_bias)\n\u001b[0m\u001b[1;32m   1043\u001b[0m \u001b[0;34m\u001b[0m\u001b[0m\n\u001b[1;32m   1044\u001b[0m   \u001b[0;32mdef\u001b[0m \u001b[0m_transform_labels\u001b[0m\u001b[0;34m(\u001b[0m\u001b[0mself\u001b[0m\u001b[0;34m,\u001b[0m \u001b[0mmode\u001b[0m\u001b[0;34m,\u001b[0m \u001b[0mlabels\u001b[0m\u001b[0;34m)\u001b[0m\u001b[0;34m:\u001b[0m\u001b[0;34m\u001b[0m\u001b[0m\n",
      "\u001b[0;32m~/.local/lib/python3.5/site-packages/tensorflow/contrib/learn/python/learn/estimators/head.py\u001b[0m in \u001b[0;36m_create_model_fn_ops\u001b[0;34m(features, mode, loss_fn, logits_to_predictions_fn, metrics_fn, create_output_alternatives_fn, labels, train_op_fn, logits, logits_dimension, head_name, weight_column_name, enable_centered_bias)\u001b[0m\n\u001b[1;32m    619\u001b[0m   \u001b[0;32mif\u001b[0m \u001b[0;34m(\u001b[0m\u001b[0mmode\u001b[0m \u001b[0;34m!=\u001b[0m \u001b[0mmodel_fn\u001b[0m\u001b[0;34m.\u001b[0m\u001b[0mModeKeys\u001b[0m\u001b[0;34m.\u001b[0m\u001b[0mINFER\u001b[0m\u001b[0;34m)\u001b[0m \u001b[0;32mand\u001b[0m \u001b[0;34m(\u001b[0m\u001b[0mlabels\u001b[0m \u001b[0;32mis\u001b[0m \u001b[0;32mnot\u001b[0m \u001b[0;32mNone\u001b[0m\u001b[0;34m)\u001b[0m\u001b[0;34m:\u001b[0m\u001b[0;34m\u001b[0m\u001b[0m\n\u001b[1;32m    620\u001b[0m     \u001b[0mweight_tensor\u001b[0m \u001b[0;34m=\u001b[0m \u001b[0m_weight_tensor\u001b[0m\u001b[0;34m(\u001b[0m\u001b[0mfeatures\u001b[0m\u001b[0;34m,\u001b[0m \u001b[0mweight_column_name\u001b[0m\u001b[0;34m)\u001b[0m\u001b[0;34m\u001b[0m\u001b[0m\n\u001b[0;32m--> 621\u001b[0;31m     \u001b[0mloss\u001b[0m\u001b[0;34m,\u001b[0m \u001b[0mweighted_average_loss\u001b[0m \u001b[0;34m=\u001b[0m \u001b[0mloss_fn\u001b[0m\u001b[0;34m(\u001b[0m\u001b[0mlabels\u001b[0m\u001b[0;34m,\u001b[0m \u001b[0mlogits\u001b[0m\u001b[0;34m,\u001b[0m \u001b[0mweight_tensor\u001b[0m\u001b[0;34m)\u001b[0m\u001b[0;34m\u001b[0m\u001b[0m\n\u001b[0m\u001b[1;32m    622\u001b[0m     \u001b[0;31m# Uses the deprecated API to set the tag explicitly.\u001b[0m\u001b[0;34m\u001b[0m\u001b[0;34m\u001b[0m\u001b[0m\n\u001b[1;32m    623\u001b[0m     \u001b[0;31m# Without it, trianing and eval losses will show up in different graphs.\u001b[0m\u001b[0;34m\u001b[0m\u001b[0;34m\u001b[0m\u001b[0m\n",
      "\u001b[0;32m~/.local/lib/python3.5/site-packages/tensorflow/contrib/learn/python/learn/estimators/head.py\u001b[0m in \u001b[0;36m_wrapped_loss_fn\u001b[0;34m(self, labels, logits, weights)\u001b[0m\n\u001b[1;32m   1070\u001b[0m \u001b[0;34m\u001b[0m\u001b[0m\n\u001b[1;32m   1071\u001b[0m   \u001b[0;32mdef\u001b[0m \u001b[0m_wrapped_loss_fn\u001b[0m\u001b[0;34m(\u001b[0m\u001b[0mself\u001b[0m\u001b[0;34m,\u001b[0m \u001b[0mlabels\u001b[0m\u001b[0;34m,\u001b[0m \u001b[0mlogits\u001b[0m\u001b[0;34m,\u001b[0m \u001b[0mweights\u001b[0m\u001b[0;34m=\u001b[0m\u001b[0;32mNone\u001b[0m\u001b[0;34m)\u001b[0m\u001b[0;34m:\u001b[0m\u001b[0;34m\u001b[0m\u001b[0m\n\u001b[0;32m-> 1072\u001b[0;31m     \u001b[0;32mreturn\u001b[0m \u001b[0mself\u001b[0m\u001b[0;34m.\u001b[0m\u001b[0m_loss_fn\u001b[0m\u001b[0;34m(\u001b[0m\u001b[0mself\u001b[0m\u001b[0;34m.\u001b[0m\u001b[0m_label_ids\u001b[0m\u001b[0;34m(\u001b[0m\u001b[0mlabels\u001b[0m\u001b[0;34m)\u001b[0m\u001b[0;34m,\u001b[0m \u001b[0mlogits\u001b[0m\u001b[0;34m,\u001b[0m \u001b[0mweights\u001b[0m\u001b[0;34m=\u001b[0m\u001b[0mweights\u001b[0m\u001b[0;34m)\u001b[0m\u001b[0;34m\u001b[0m\u001b[0m\n\u001b[0m\u001b[1;32m   1073\u001b[0m \u001b[0;34m\u001b[0m\u001b[0m\n\u001b[1;32m   1074\u001b[0m   \u001b[0;32mdef\u001b[0m \u001b[0m_logits_to_predictions\u001b[0m\u001b[0;34m(\u001b[0m\u001b[0mself\u001b[0m\u001b[0;34m,\u001b[0m \u001b[0mlogits\u001b[0m\u001b[0;34m)\u001b[0m\u001b[0;34m:\u001b[0m\u001b[0;34m\u001b[0m\u001b[0m\n",
      "\u001b[0;32m~/.local/lib/python3.5/site-packages/tensorflow/contrib/learn/python/learn/estimators/head.py\u001b[0m in \u001b[0;36m_softmax_cross_entropy_loss\u001b[0;34m(labels, logits, weights)\u001b[0m\n\u001b[1;32m    926\u001b[0m     \u001b[0;32mif\u001b[0m \u001b[0;32mnot\u001b[0m \u001b[0mlabels\u001b[0m\u001b[0;34m.\u001b[0m\u001b[0mdtype\u001b[0m\u001b[0;34m.\u001b[0m\u001b[0mis_integer\u001b[0m\u001b[0;34m:\u001b[0m\u001b[0;34m\u001b[0m\u001b[0m\n\u001b[1;32m    927\u001b[0m       raise ValueError(\"Labels dtype should be integer \"\n\u001b[0;32m--> 928\u001b[0;31m                        \"Instead got %s.\" % labels.dtype)\n\u001b[0m\u001b[1;32m    929\u001b[0m \u001b[0;34m\u001b[0m\u001b[0m\n\u001b[1;32m    930\u001b[0m     \u001b[0;31m# sparse_softmax_cross_entropy_with_logits requires [batch_size] labels.\u001b[0m\u001b[0;34m\u001b[0m\u001b[0;34m\u001b[0m\u001b[0m\n",
      "\u001b[0;31mValueError\u001b[0m: Labels dtype should be integer Instead got <dtype: 'string'>."
     ]
    }
   ],
   "source": [
    "classifier.fit(input_fn=get_train_inputs, steps=3000)"
   ]
  },
  {
   "cell_type": "code",
   "execution_count": null,
   "metadata": {},
   "outputs": [],
   "source": []
  },
  {
   "cell_type": "code",
   "execution_count": null,
   "metadata": {},
   "outputs": [],
   "source": []
  },
  {
   "cell_type": "code",
   "execution_count": null,
   "metadata": {
    "collapsed": true
   },
   "outputs": [],
   "source": []
  },
  {
   "cell_type": "code",
   "execution_count": 57,
   "metadata": {},
   "outputs": [],
   "source": []
  },
  {
   "cell_type": "code",
   "execution_count": null,
   "metadata": {
    "collapsed": true
   },
   "outputs": [],
   "source": []
  },
  {
   "cell_type": "code",
   "execution_count": null,
   "metadata": {
    "collapsed": true
   },
   "outputs": [],
   "source": []
  },
  {
   "cell_type": "code",
   "execution_count": null,
   "metadata": {
    "collapsed": true
   },
   "outputs": [],
   "source": []
  },
  {
   "cell_type": "code",
   "execution_count": null,
   "metadata": {
    "collapsed": true
   },
   "outputs": [],
   "source": []
  },
  {
   "cell_type": "code",
   "execution_count": null,
   "metadata": {
    "collapsed": true
   },
   "outputs": [],
   "source": []
  },
  {
   "cell_type": "code",
   "execution_count": null,
   "metadata": {
    "collapsed": true
   },
   "outputs": [],
   "source": []
  },
  {
   "cell_type": "code",
   "execution_count": null,
   "metadata": {
    "collapsed": true
   },
   "outputs": [],
   "source": []
  },
  {
   "cell_type": "code",
   "execution_count": null,
   "metadata": {
    "collapsed": true
   },
   "outputs": [],
   "source": []
  },
  {
   "cell_type": "code",
   "execution_count": null,
   "metadata": {
    "collapsed": true
   },
   "outputs": [],
   "source": []
  },
  {
   "cell_type": "code",
   "execution_count": null,
   "metadata": {
    "collapsed": true
   },
   "outputs": [],
   "source": []
  },
  {
   "cell_type": "code",
   "execution_count": null,
   "metadata": {
    "collapsed": true
   },
   "outputs": [],
   "source": []
  }
 ],
 "metadata": {
  "kernelspec": {
   "display_name": "Python 3",
   "language": "python",
   "name": "python3"
  },
  "language_info": {
   "codemirror_mode": {
    "name": "ipython",
    "version": 3
   },
   "file_extension": ".py",
   "mimetype": "text/x-python",
   "name": "python",
   "nbconvert_exporter": "python",
   "pygments_lexer": "ipython3",
   "version": "3.5.2"
  }
 },
 "nbformat": 4,
 "nbformat_minor": 2
}
