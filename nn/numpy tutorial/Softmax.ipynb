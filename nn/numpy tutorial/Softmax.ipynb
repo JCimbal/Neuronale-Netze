{
 "cells": [
  {
   "cell_type": "markdown",
   "metadata": {},
   "source": [
    "# Softmax"
   ]
  },
  {
   "cell_type": "markdown",
   "metadata": {},
   "source": [
    "This function is usually used in the last layer of a 1-hot-encoded neural network.\n",
    "It produces probabilities for the single elements resulting in a sum of 1.0.\n",
    "Further it pushes the lower values down while the larger ones remain high.\n",
    "Values at 0 are pushed up a little to a nonzero value."
   ]
  },
  {
   "cell_type": "code",
   "execution_count": 31,
   "metadata": {
    "collapsed": true
   },
   "outputs": [],
   "source": [
    "import matplotlib as mpl\n",
    "import matplotlib.pyplot as plt\n",
    "import numpy as np"
   ]
  },
  {
   "cell_type": "code",
   "execution_count": 49,
   "metadata": {
    "collapsed": true
   },
   "outputs": [],
   "source": [
    "def softmax(v):\n",
    "    # normalize: v - v.max()\n",
    "    # Note: v.max(), not v.min() !!!\n",
    "    # v.max gets 0, all others below it.\n",
    "    # exp(v.max) = 1.0\n",
    "    v1 = v - np.max(np.array(v))\n",
    "    v2 = np.exp(v)\n",
    "    v2sum = np.sum(v2)\n",
    "    probs = v2/v2sum\n",
    "    # check: probs.sum() must be 1.0\n",
    "    # print(probs.sum())\n",
    "    return probs"
   ]
  },
  {
   "cell_type": "code",
   "execution_count": 50,
   "metadata": {
    "collapsed": true
   },
   "outputs": [],
   "source": [
    "def plot(o, sm):\n",
    "\n",
    "    x = np.linspace(0,10,11)\n",
    "\n",
    "    plt.figure(figsize=(20,10))\n",
    "\n",
    "    #    oplot, = plt.plot(x, o, 'g-', label=\"x\")\n",
    "    smplot, = plt.plot(x, sm, 'b-', label=\"sm\")\n",
    "\n",
    "    ax = plt.gca()\n",
    "\n",
    "    centerx = 0\n",
    "    centery = 0\n",
    "    ax.spines['left'].set_position(('data', centerx))\n",
    "    ax.spines['bottom'].set_position(('data', centery))\n",
    "    ax.spines['right'].set_position(('data', centerx))\n",
    "    ax.spines['top'].set_position(('data', centery))\n",
    "\n",
    "    for axis, center in zip([ax.xaxis, ax.yaxis], [centerx, centery]):\n",
    "        axis.set_ticks_position('both')\n",
    "        axis.grid(True, 'major', ls='solid', lw=0.5, color='gray')\n",
    "        axis.grid(True, 'minor', ls='solid', lw=0.1, color='gray')\n",
    "        axis.set_minor_locator(mpl.ticker.AutoMinorLocator())\n",
    "\n",
    "        #    plt.legend(handles=[xplot, smplot])\n",
    "\n",
    "    plt.show()"
   ]
  },
  {
   "cell_type": "code",
   "execution_count": 51,
   "metadata": {},
   "outputs": [
    {
     "data": {
      "text/plain": [
       "[0, 0, 6, 3, 9, 0, 1, 0, 2, 0, 0]"
      ]
     },
     "execution_count": 51,
     "metadata": {},
     "output_type": "execute_result"
    }
   ],
   "source": [
    "#    o = np.linspace(0,1,11) # list(range(0,1,11))\n",
    "o = [0, 0, 6, 3, 9, 0, 1, 0, 2, 0, 0]\n",
    "o\n",
    "# print(\"o = {0}\".format(o))"
   ]
  },
  {
   "cell_type": "code",
   "execution_count": 52,
   "metadata": {},
   "outputs": [
    {
     "data": {
      "text/plain": [
       "array([  1.17058933e-04,   1.17058933e-04,   4.72249440e-02,\n",
       "         2.35119152e-03,   9.48538357e-01,   1.17058933e-04,\n",
       "         3.18199170e-04,   1.17058933e-04,   8.64955021e-04,\n",
       "         1.17058933e-04,   1.17058933e-04])"
      ]
     },
     "execution_count": 52,
     "metadata": {},
     "output_type": "execute_result"
    }
   ],
   "source": [
    "sm = softmax(o)\n",
    "sm\n",
    "# print(\"softmax = {0}\".format(sm))"
   ]
  },
  {
   "cell_type": "code",
   "execution_count": 53,
   "metadata": {},
   "outputs": [
    {
     "data": {
      "text/plain": [
       "1.0"
      ]
     },
     "execution_count": 53,
     "metadata": {},
     "output_type": "execute_result"
    }
   ],
   "source": [
    "np.sum(sm)"
   ]
  },
  {
   "cell_type": "code",
   "execution_count": 54,
   "metadata": {},
   "outputs": [
    {
     "data": {
      "image/png": "[encoded data removed]",
      "text/plain": [
       "<matplotlib.figure.Figure at 0x19f9aac4b38>"
      ]
     },
     "metadata": {},
     "output_type": "display_data"
    }
   ],
   "source": [
    "plot(o, sm)"
   ]
  },
  {
   "cell_type": "markdown",
   "metadata": {},
   "source": [
    "Note:\n",
    "values 3, 6, 9 => almost 0, low, max"
   ]
  },
  {
   "cell_type": "code",
   "execution_count": null,
   "metadata": {
    "collapsed": true
   },
   "outputs": [],
   "source": []
  }
 ],
 "metadata": {
  "kernelspec": {
   "display_name": "Python 3",
   "language": "python",
   "name": "python3"
  },
  "language_info": {
   "codemirror_mode": {
    "name": "ipython",
    "version": 3
   },
   "file_extension": ".py",
   "mimetype": "text/x-python",
   "name": "python",
   "nbconvert_exporter": "python",
   "pygments_lexer": "ipython3",
   "version": "3.5.2"
  }
 },
 "nbformat": 4,
 "nbformat_minor": 2
}
