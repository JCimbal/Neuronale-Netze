{
 "cells": [
  {
   "cell_type": "markdown",
   "metadata": {},
   "source": [
    "# Das Newton-Verfahren"
   ]
  },
  {
   "cell_type": "markdown",
   "metadata": {},
   "source": [
    "Das Newton Verfahren kann einen Funktionswert minimieren. Dazu wird ein Startwert iterativ verbessert. Es bricht ab, wenn ein gegebenes $\\epsilon$ unterschritten wird. Es kann allerdings vorkommen, dass das Verfahren nicht konvergiert."
   ]
  },
  {
   "cell_type": "code",
   "execution_count": 1,
   "metadata": {
    "collapsed": true
   },
   "outputs": [],
   "source": [
    "import matplotlib as mpl\n",
    "import matplotlib.pyplot as plt\n",
    "import numpy as np"
   ]
  },
  {
   "cell_type": "markdown",
   "metadata": {},
   "source": [
    "Zu untersuchende Funktionen:"
   ]
  },
  {
   "cell_type": "code",
   "execution_count": 2,
   "metadata": {
    "collapsed": true
   },
   "outputs": [],
   "source": [
    "def f1(x):\n",
    "    return 5*x**2 + 3*x - 0.1"
   ]
  },
  {
   "cell_type": "code",
   "execution_count": 3,
   "metadata": {
    "collapsed": true
   },
   "outputs": [],
   "source": [
    "def f2(x):\n",
    "    return 0.5*x**2+2*x-1"
   ]
  },
  {
   "cell_type": "code",
   "execution_count": 4,
   "metadata": {
    "collapsed": true
   },
   "outputs": [],
   "source": [
    "def f3(x):\n",
    "    return x**3 - 2*x + 2"
   ]
  },
  {
   "cell_type": "code",
   "execution_count": 5,
   "metadata": {
    "collapsed": true
   },
   "outputs": [],
   "source": [
    "def f4(x):\n",
    "    return pow(x,1.0/3.0)"
   ]
  },
  {
   "cell_type": "code",
   "execution_count": 6,
   "metadata": {
    "collapsed": true
   },
   "outputs": [],
   "source": [
    "def f5(x):\n",
    "    return (x**(1.0/3.0)).real"
   ]
  },
  {
   "cell_type": "markdown",
   "metadata": {},
   "source": [
    "Das Newton-Verfahren benötigt die 1. Ableitung der zu untersuchenden Funktion:"
   ]
  },
  {
   "cell_type": "code",
   "execution_count": 7,
   "metadata": {
    "collapsed": true
   },
   "outputs": [],
   "source": [
    "def df1(x):\n",
    "    return 10*x + 3"
   ]
  },
  {
   "cell_type": "code",
   "execution_count": 8,
   "metadata": {
    "collapsed": true
   },
   "outputs": [],
   "source": [
    "def df2(x):\n",
    "    return x+2"
   ]
  },
  {
   "cell_type": "code",
   "execution_count": 9,
   "metadata": {
    "collapsed": true
   },
   "outputs": [],
   "source": [
    "def df3(x):\n",
    "    return 3*x**2 - 2"
   ]
  },
  {
   "cell_type": "code",
   "execution_count": 10,
   "metadata": {
    "collapsed": true
   },
   "outputs": [],
   "source": [
    "def df4(x):\n",
    "    return (1.0/3.0)*pow(x,-2.0/3.0)"
   ]
  },
  {
   "cell_type": "code",
   "execution_count": 11,
   "metadata": {
    "collapsed": true
   },
   "outputs": [],
   "source": [
    "def df5(x):\n",
    "    return ((1.0/3.0)*x**(-2.0/3.0)).real"
   ]
  },
  {
   "cell_type": "markdown",
   "metadata": {},
   "source": [
    "bestimmte Abbruchbedingungen führen zu Exeptions:"
   ]
  },
  {
   "cell_type": "code",
   "execution_count": 12,
   "metadata": {
    "collapsed": true
   },
   "outputs": [],
   "source": [
    "class DFZeroError(ValueError):\n",
    "    \"raise this when F' is 0\""
   ]
  },
  {
   "cell_type": "code",
   "execution_count": 13,
   "metadata": {
    "collapsed": true
   },
   "outputs": [],
   "source": [
    "class MaxIterationsError(ValueError):\n",
    "    \"raise this when reached maximum iterations\""
   ]
  },
  {
   "cell_type": "markdown",
   "metadata": {},
   "source": [
    "Das Newton-Verfahren:\n",
    "Zu beachten ist, dass bei df = 0 das Verfahren abbricht."
   ]
  },
  {
   "cell_type": "code",
   "execution_count": 14,
   "metadata": {
    "collapsed": true
   },
   "outputs": [],
   "source": [
    "def f(x):\n",
    "    return f1(x)"
   ]
  },
  {
   "cell_type": "code",
   "execution_count": 15,
   "metadata": {
    "collapsed": true
   },
   "outputs": [],
   "source": [
    "def df(x):\n",
    "    return df1(x)"
   ]
  },
  {
   "cell_type": "code",
   "execution_count": 16,
   "metadata": {
    "collapsed": true
   },
   "outputs": [],
   "source": [
    "def newton(xn):\n",
    "    #                         f(xn)\n",
    "    # calculate  xn+1 = xn - --------\n",
    "    #                         f'(xn)\n",
    "    den = df(xn)\n",
    "    if den == 0:\n",
    "        raise DFZeroError('dF is Zero for {0:f}. Maybe start with another x0.'.format(xn))\n",
    "    xnp1 = xn - f(xn)/den\n",
    "    return xnp1"
   ]
  },
  {
   "cell_type": "code",
   "execution_count": 17,
   "metadata": {
    "collapsed": true
   },
   "outputs": [],
   "source": [
    "def setupPlot():\n",
    "\n",
    "    # change size of the plot (must be done BEFORE the first plot):\n",
    "    fig = plt.figure(figsize=(20,10))\n",
    "    \n",
    "    ax = plt.gca()\n",
    "\n",
    "    centerx = 0\n",
    "    centery = 0\n",
    "    ax.spines['left'].set_position(('data', centerx))\n",
    "    ax.spines['bottom'].set_position(('data', centery))\n",
    "    ax.spines['right'].set_position(('data', centerx))\n",
    "    ax.spines['top'].set_position(('data', centery))\n",
    "\n",
    "\n",
    "    for axis, center in zip([ax.xaxis, ax.yaxis], [centerx, centery]):\n",
    "        # Turn on minor and major gridlines and ticks\n",
    "        axis.set_ticks_position('both')\n",
    "        axis.grid(True, 'major', ls='solid', lw=0.5, color='gray')\n",
    "        axis.grid(True, 'minor', ls='solid', lw=0.1, color='gray')\n",
    "        axis.set_minor_locator(mpl.ticker.AutoMinorLocator())\n",
    "\n",
    "        # Hide the ticklabels at <centerx, centery>\n",
    "        # formatter = CenteredFormatter()\n",
    "        # formatter.center = center\n",
    "        # axis.set_major_formatter(formatter)"
   ]
  },
  {
   "cell_type": "code",
   "execution_count": 18,
   "metadata": {
    "collapsed": true
   },
   "outputs": [],
   "source": [
    "setupPlot()"
   ]
  },
  {
   "cell_type": "code",
   "execution_count": 19,
   "metadata": {
    "collapsed": true
   },
   "outputs": [],
   "source": [
    "# max n iterations\n",
    "maxIterations = 20"
   ]
  },
  {
   "cell_type": "code",
   "execution_count": 20,
   "metadata": {
    "collapsed": true
   },
   "outputs": [],
   "source": [
    "# stop if |(xn+1)-(xn)| < eps\n",
    "eps = 0.0000001"
   ]
  },
  {
   "cell_type": "code",
   "execution_count": 21,
   "metadata": {
    "collapsed": true
   },
   "outputs": [],
   "source": [
    "# initial value\n",
    "x0 = 1"
   ]
  },
  {
   "cell_type": "code",
   "execution_count": 22,
   "metadata": {
    "collapsed": true
   },
   "outputs": [],
   "source": [
    "def doNewton():\n",
    "    xnp1 = x0\n",
    "    for i in range(1, maxIterations):\n",
    "        xn = xnp1\n",
    "        xnp1 = newton(xn)\n",
    "\n",
    "        print(\"xn = {0:.8f}\\tf(xn) = {1:.8f}\\tf'(xn) = {2:.8f}\\txnp1 = {3:.8f}\".format(xn, f(xn), df(xn), xnp1))\n",
    "\n",
    "        m = (f(xn)-0) / (xn-xnp1)\n",
    "        b = -m * xnp1\n",
    "        print(\"\\tm = {0:.8f}\\tb = {1:.8f}\".format(m, b))\n",
    "\n",
    "        plt.plot(x, m*x+b, 'r:')\n",
    "        plt.plot(xn, 0, 'kx')\n",
    "        plt.plot(xn, f(xn), 'kx')\n",
    "        plt.plot(xnp1, 0, 'kx')\n",
    "        plt.plot(xnp1, f(xnp1), 'kx')\n",
    "\n",
    "        if (abs(xn-xnp1) < eps):\n",
    "            print(\"below eps\")\n",
    "            return\n",
    "\n",
    "    raise MaxIterationsError('max Iterations reached, possibly not converging ?')"
   ]
  },
  {
   "cell_type": "code",
   "execution_count": 23,
   "metadata": {
    "collapsed": true
   },
   "outputs": [],
   "source": [
    "# x axis\n",
    "x = np.arange(0,1.2,0.01)"
   ]
  },
  {
   "cell_type": "code",
   "execution_count": 24,
   "metadata": {},
   "outputs": [
    {
     "data": {
      "text/plain": [
       "[<matplotlib.lines.Line2D at 0x239a112ed68>]"
      ]
     },
     "execution_count": 24,
     "metadata": {},
     "output_type": "execute_result"
    }
   ],
   "source": [
    "# draw graph\n",
    "plt.plot(x, f(x))"
   ]
  },
  {
   "cell_type": "code",
   "execution_count": 25,
   "metadata": {},
   "outputs": [
    {
     "name": "stdout",
     "output_type": "stream",
     "text": [
      "xn = 1.00000000\tf(xn) = 7.90000000\tf'(xn) = 13.00000000\txnp1 = 0.39230769\n",
      "\tm = 13.00000000\tb = -5.10000000\n",
      "xn = 0.39230769\tf(xn) = 1.84644970\tf'(xn) = 6.92307692\txnp1 = 0.12559829\n",
      "\tm = 6.92307692\tb = -0.86952663\n",
      "xn = 0.12559829\tf(xn) = 0.35566952\tf'(xn) = 4.25598291\txnp1 = 0.04202899\n",
      "\tm = 4.25598291\tb = -0.17887465\n",
      "xn = 0.04202899\tf(xn) = 0.03491914\tf'(xn) = 3.42028988\txnp1 = 0.03181958\n",
      "\tm = 3.42028988\tb = -0.10883218\n",
      "xn = 0.03181958\tf(xn) = 0.00052116\tf'(xn) = 3.31819578\txnp1 = 0.03166252\n",
      "\tm = 3.31819578\tb = -0.10506243\n",
      "xn = 0.03166252\tf(xn) = 0.00000012\tf'(xn) = 3.31662516\txnp1 = 0.03166248\n",
      "\tm = 3.31662516\tb = -0.10501257\n",
      "below eps\n"
     ]
    }
   ],
   "source": [
    "doNewton()"
   ]
  },
  {
   "cell_type": "code",
   "execution_count": 26,
   "metadata": {},
   "outputs": [
    {
     "data": {
      "image/png": "[encoded data removed]",
      "text/plain": [
       "<matplotlib.figure.Figure at 0x239a11048d0>"
      ]
     },
     "metadata": {},
     "output_type": "display_data"
    }
   ],
   "source": [
    "plt.show()"
   ]
  },
  {
   "cell_type": "code",
   "execution_count": null,
   "metadata": {
    "collapsed": true
   },
   "outputs": [],
   "source": []
  }
 ],
 "metadata": {
  "kernelspec": {
   "display_name": "Python 3",
   "language": "python",
   "name": "python3"
  },
  "language_info": {
   "codemirror_mode": {
    "name": "ipython",
    "version": 3
   },
   "file_extension": ".py",
   "mimetype": "text/x-python",
   "name": "python",
   "nbconvert_exporter": "python",
   "pygments_lexer": "ipython3",
   "version": "3.5.2"
  }
 },
 "nbformat": 4,
 "nbformat_minor": 2
}
