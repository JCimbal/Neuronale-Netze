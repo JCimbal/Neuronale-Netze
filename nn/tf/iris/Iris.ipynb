{
 "cells": [
  {
   "cell_type": "markdown",
   "metadata": {},
   "source": [
    "# Iris Sample"
   ]
  },
  {
   "cell_type": "code",
   "execution_count": 1,
   "metadata": {
    "collapsed": true
   },
   "outputs": [],
   "source": [
    "import os\n",
    "import urllib\n",
    "import tensorflow as tf\n",
    "import numpy as np\n",
    "import matplotlib.pyplot as plt"
   ]
  },
  {
   "cell_type": "code",
   "execution_count": 2,
   "metadata": {
    "collapsed": true
   },
   "outputs": [],
   "source": [
    "# define some locations\n",
    "IRIS_TRAINING = \"iris_training.csv\"\n",
    "IRIS_TRAINING_URL = \"http://download.tensorflow.org/data/iris_training.csv\"\n",
    "\n",
    "IRIS_TEST = \"iris_test.csv\"\n",
    "IRIS_TEST_URL = \"http://download.tensorflow.org/data/iris_test.csv\""
   ]
  },
  {
   "cell_type": "code",
   "execution_count": 3,
   "metadata": {
    "collapsed": true
   },
   "outputs": [],
   "source": [
    "# load data from internet\n",
    "\n",
    "if not os.path.exists(IRIS_TRAINING):\n",
    "    raw = urllib.urlopen(IRIS_TRAINING_URL).read()\n",
    "    with open(IRIS_TRAINING,'w') as f:\n",
    "        f.write(raw)\n",
    "\n",
    "if not os.path.exists(IRIS_TEST):\n",
    "    raw = urllib.urlopen(IRIS_TEST_URL).read()\n",
    "    with open(IRIS_TEST,'w') as f:\n",
    "        f.write(raw)"
   ]
  },
  {
   "cell_type": "code",
   "execution_count": 4,
   "metadata": {
    "collapsed": true
   },
   "outputs": [],
   "source": [
    "# Define the training inputs\n",
    "def get_train_inputs():\n",
    "    x = tf.constant(training_set.data)\n",
    "    y = tf.constant(training_set.target)\n",
    "    #  y = tf.summary.scalar(, training_set.target)\n",
    "    return x, y"
   ]
  },
  {
   "cell_type": "code",
   "execution_count": 5,
   "metadata": {
    "collapsed": true
   },
   "outputs": [],
   "source": [
    "# Define the test inputs\n",
    "def get_test_inputs():\n",
    "    x = tf.constant(test_set.data)\n",
    "    y = tf.constant(test_set.target)\n",
    "    return x, y"
   ]
  },
  {
   "cell_type": "code",
   "execution_count": 6,
   "metadata": {
    "collapsed": true
   },
   "outputs": [],
   "source": [
    "# Load datasets.\n",
    "training_set = tf.contrib.learn.datasets.base.load_csv_with_header(\n",
    "    filename=IRIS_TRAINING,\n",
    "    target_dtype=np.int,\n",
    "    features_dtype=np.float32)\n",
    "\n",
    "test_set = tf.contrib.learn.datasets.base.load_csv_with_header(\n",
    "    filename=IRIS_TEST,\n",
    "    target_dtype=np.int,\n",
    "    features_dtype=np.float32)"
   ]
  },
  {
   "cell_type": "code",
   "execution_count": 7,
   "metadata": {},
   "outputs": [
    {
     "data": {
      "text/plain": [
       "array([[ 6.4000001 ,  2.79999995,  5.5999999 ,  2.20000005],\n",
       "       [ 5.        ,  2.29999995,  3.29999995,  1.        ],\n",
       "       [ 4.9000001 ,  2.5       ,  4.5       ,  1.70000005],\n",
       "       [ 4.9000001 ,  3.0999999 ,  1.5       ,  0.1       ],\n",
       "       [ 5.69999981,  3.79999995,  1.70000005,  0.30000001],\n",
       "       [ 4.4000001 ,  3.20000005,  1.29999995,  0.2       ],\n",
       "       [ 5.4000001 ,  3.4000001 ,  1.5       ,  0.40000001],\n",
       "       [ 6.9000001 ,  3.0999999 ,  5.0999999 ,  2.29999995],\n",
       "       [ 6.69999981,  3.0999999 ,  4.4000001 ,  1.39999998],\n",
       "       [ 5.0999999 ,  3.70000005,  1.5       ,  0.40000001],\n",
       "       [ 5.19999981,  2.70000005,  3.9000001 ,  1.39999998],\n",
       "       [ 6.9000001 ,  3.0999999 ,  4.9000001 ,  1.5       ],\n",
       "       [ 5.80000019,  4.        ,  1.20000005,  0.2       ],\n",
       "       [ 5.4000001 ,  3.9000001 ,  1.70000005,  0.40000001],\n",
       "       [ 7.69999981,  3.79999995,  6.69999981,  2.20000005],\n",
       "       [ 6.30000019,  3.29999995,  4.69999981,  1.60000002],\n",
       "       [ 6.80000019,  3.20000005,  5.9000001 ,  2.29999995],\n",
       "       [ 7.5999999 ,  3.        ,  6.5999999 ,  2.0999999 ],\n",
       "       [ 6.4000001 ,  3.20000005,  5.30000019,  2.29999995],\n",
       "       [ 5.69999981,  4.4000001 ,  1.5       ,  0.40000001],\n",
       "       [ 6.69999981,  3.29999995,  5.69999981,  2.0999999 ],\n",
       "       [ 6.4000001 ,  2.79999995,  5.5999999 ,  2.0999999 ],\n",
       "       [ 5.4000001 ,  3.9000001 ,  1.29999995,  0.40000001],\n",
       "       [ 6.0999999 ,  2.5999999 ,  5.5999999 ,  1.39999998],\n",
       "       [ 7.19999981,  3.        ,  5.80000019,  1.60000002],\n",
       "       [ 5.19999981,  3.5       ,  1.5       ,  0.2       ],\n",
       "       [ 5.80000019,  2.5999999 ,  4.        ,  1.20000005],\n",
       "       [ 5.9000001 ,  3.        ,  5.0999999 ,  1.79999995],\n",
       "       [ 5.4000001 ,  3.        ,  4.5       ,  1.5       ],\n",
       "       [ 6.69999981,  3.        ,  5.        ,  1.70000005],\n",
       "       [ 6.30000019,  2.29999995,  4.4000001 ,  1.29999995],\n",
       "       [ 5.0999999 ,  2.5       ,  3.        ,  1.10000002],\n",
       "       [ 6.4000001 ,  3.20000005,  4.5       ,  1.5       ],\n",
       "       [ 6.80000019,  3.        ,  5.5       ,  2.0999999 ],\n",
       "       [ 6.19999981,  2.79999995,  4.80000019,  1.79999995],\n",
       "       [ 6.9000001 ,  3.20000005,  5.69999981,  2.29999995],\n",
       "       [ 6.5       ,  3.20000005,  5.0999999 ,  2.        ],\n",
       "       [ 5.80000019,  2.79999995,  5.0999999 ,  2.4000001 ],\n",
       "       [ 5.0999999 ,  3.79999995,  1.5       ,  0.30000001],\n",
       "       [ 4.80000019,  3.        ,  1.39999998,  0.30000001],\n",
       "       [ 7.9000001 ,  3.79999995,  6.4000001 ,  2.        ],\n",
       "       [ 5.80000019,  2.70000005,  5.0999999 ,  1.89999998],\n",
       "       [ 6.69999981,  3.        ,  5.19999981,  2.29999995],\n",
       "       [ 5.0999999 ,  3.79999995,  1.89999998,  0.40000001],\n",
       "       [ 4.69999981,  3.20000005,  1.60000002,  0.2       ],\n",
       "       [ 6.        ,  2.20000005,  5.        ,  1.5       ],\n",
       "       [ 4.80000019,  3.4000001 ,  1.60000002,  0.2       ],\n",
       "       [ 7.69999981,  2.5999999 ,  6.9000001 ,  2.29999995],\n",
       "       [ 4.5999999 ,  3.5999999 ,  1.        ,  0.2       ],\n",
       "       [ 7.19999981,  3.20000005,  6.        ,  1.79999995],\n",
       "       [ 5.        ,  3.29999995,  1.39999998,  0.2       ],\n",
       "       [ 6.5999999 ,  3.        ,  4.4000001 ,  1.39999998],\n",
       "       [ 6.0999999 ,  2.79999995,  4.        ,  1.29999995],\n",
       "       [ 5.        ,  3.20000005,  1.20000005,  0.2       ],\n",
       "       [ 7.        ,  3.20000005,  4.69999981,  1.39999998],\n",
       "       [ 6.        ,  3.        ,  4.80000019,  1.79999995],\n",
       "       [ 7.4000001 ,  2.79999995,  6.0999999 ,  1.89999998],\n",
       "       [ 5.80000019,  2.70000005,  5.0999999 ,  1.89999998],\n",
       "       [ 6.19999981,  3.4000001 ,  5.4000001 ,  2.29999995],\n",
       "       [ 5.        ,  2.        ,  3.5       ,  1.        ],\n",
       "       [ 5.5999999 ,  2.5       ,  3.9000001 ,  1.10000002],\n",
       "       [ 6.69999981,  3.0999999 ,  5.5999999 ,  2.4000001 ],\n",
       "       [ 6.30000019,  2.5       ,  5.        ,  1.89999998],\n",
       "       [ 6.4000001 ,  3.0999999 ,  5.5       ,  1.79999995],\n",
       "       [ 6.19999981,  2.20000005,  4.5       ,  1.5       ],\n",
       "       [ 7.30000019,  2.9000001 ,  6.30000019,  1.79999995],\n",
       "       [ 4.4000001 ,  3.        ,  1.29999995,  0.2       ],\n",
       "       [ 7.19999981,  3.5999999 ,  6.0999999 ,  2.5       ],\n",
       "       [ 6.5       ,  3.        ,  5.5       ,  1.79999995],\n",
       "       [ 5.        ,  3.4000001 ,  1.5       ,  0.2       ],\n",
       "       [ 4.69999981,  3.20000005,  1.29999995,  0.2       ],\n",
       "       [ 6.5999999 ,  2.9000001 ,  4.5999999 ,  1.29999995],\n",
       "       [ 5.5       ,  3.5       ,  1.29999995,  0.2       ],\n",
       "       [ 7.69999981,  3.        ,  6.0999999 ,  2.29999995],\n",
       "       [ 6.0999999 ,  3.        ,  4.9000001 ,  1.79999995],\n",
       "       [ 4.9000001 ,  3.0999999 ,  1.5       ,  0.1       ],\n",
       "       [ 5.5       ,  2.4000001 ,  3.79999995,  1.10000002],\n",
       "       [ 5.69999981,  2.9000001 ,  4.19999981,  1.29999995],\n",
       "       [ 6.        ,  2.9000001 ,  4.5       ,  1.5       ],\n",
       "       [ 6.4000001 ,  2.70000005,  5.30000019,  1.89999998],\n",
       "       [ 5.4000001 ,  3.70000005,  1.5       ,  0.2       ],\n",
       "       [ 6.0999999 ,  2.9000001 ,  4.69999981,  1.39999998],\n",
       "       [ 6.5       ,  2.79999995,  4.5999999 ,  1.5       ],\n",
       "       [ 5.5999999 ,  2.70000005,  4.19999981,  1.29999995],\n",
       "       [ 6.30000019,  3.4000001 ,  5.5999999 ,  2.4000001 ],\n",
       "       [ 4.9000001 ,  3.0999999 ,  1.5       ,  0.1       ],\n",
       "       [ 6.80000019,  2.79999995,  4.80000019,  1.39999998],\n",
       "       [ 5.69999981,  2.79999995,  4.5       ,  1.29999995],\n",
       "       [ 6.        ,  2.70000005,  5.0999999 ,  1.60000002],\n",
       "       [ 5.        ,  3.5       ,  1.29999995,  0.30000001],\n",
       "       [ 6.5       ,  3.        ,  5.19999981,  2.        ],\n",
       "       [ 6.0999999 ,  2.79999995,  4.69999981,  1.20000005],\n",
       "       [ 5.0999999 ,  3.5       ,  1.39999998,  0.30000001],\n",
       "       [ 4.5999999 ,  3.0999999 ,  1.5       ,  0.2       ],\n",
       "       [ 6.5       ,  3.        ,  5.80000019,  2.20000005],\n",
       "       [ 4.5999999 ,  3.4000001 ,  1.39999998,  0.30000001],\n",
       "       [ 4.5999999 ,  3.20000005,  1.39999998,  0.2       ],\n",
       "       [ 7.69999981,  2.79999995,  6.69999981,  2.        ],\n",
       "       [ 5.9000001 ,  3.20000005,  4.80000019,  1.79999995],\n",
       "       [ 5.0999999 ,  3.79999995,  1.60000002,  0.2       ],\n",
       "       [ 4.9000001 ,  3.        ,  1.39999998,  0.2       ],\n",
       "       [ 4.9000001 ,  2.4000001 ,  3.29999995,  1.        ],\n",
       "       [ 4.5       ,  2.29999995,  1.29999995,  0.30000001],\n",
       "       [ 5.80000019,  2.70000005,  4.0999999 ,  1.        ],\n",
       "       [ 5.        ,  3.4000001 ,  1.60000002,  0.40000001],\n",
       "       [ 5.19999981,  3.4000001 ,  1.39999998,  0.2       ],\n",
       "       [ 5.30000019,  3.70000005,  1.5       ,  0.2       ],\n",
       "       [ 5.        ,  3.5999999 ,  1.39999998,  0.2       ],\n",
       "       [ 5.5999999 ,  2.9000001 ,  3.5999999 ,  1.29999995],\n",
       "       [ 4.80000019,  3.0999999 ,  1.60000002,  0.2       ],\n",
       "       [ 6.30000019,  2.70000005,  4.9000001 ,  1.79999995],\n",
       "       [ 5.69999981,  2.79999995,  4.0999999 ,  1.29999995],\n",
       "       [ 5.        ,  3.        ,  1.60000002,  0.2       ],\n",
       "       [ 6.30000019,  3.29999995,  6.        ,  2.5       ],\n",
       "       [ 5.        ,  3.5       ,  1.60000002,  0.60000002],\n",
       "       [ 5.5       ,  2.5999999 ,  4.4000001 ,  1.20000005],\n",
       "       [ 5.69999981,  3.        ,  4.19999981,  1.20000005],\n",
       "       [ 4.4000001 ,  2.9000001 ,  1.39999998,  0.2       ],\n",
       "       [ 4.80000019,  3.        ,  1.39999998,  0.1       ],\n",
       "       [ 5.5       ,  2.4000001 ,  3.70000005,  1.        ]], dtype=float32)"
      ]
     },
     "execution_count": 7,
     "metadata": {},
     "output_type": "execute_result"
    }
   ],
   "source": [
    "training_set.data"
   ]
  },
  {
   "cell_type": "code",
   "execution_count": 8,
   "metadata": {},
   "outputs": [
    {
     "data": {
      "text/plain": [
       "array([2, 1, 2, 0, 0, 0, 0, 2, 1, 0, 1, 1, 0, 0, 2, 1, 2, 2, 2, 0, 2, 2, 0,\n",
       "       2, 2, 0, 1, 2, 1, 1, 1, 1, 1, 2, 2, 2, 2, 2, 0, 0, 2, 2, 2, 0, 0, 2,\n",
       "       0, 2, 0, 2, 0, 1, 1, 0, 1, 2, 2, 2, 2, 1, 1, 2, 2, 2, 1, 2, 0, 2, 2,\n",
       "       0, 0, 1, 0, 2, 2, 0, 1, 1, 1, 2, 0, 1, 1, 1, 2, 0, 1, 1, 1, 0, 2, 1,\n",
       "       0, 0, 2, 0, 0, 2, 1, 0, 0, 1, 0, 1, 0, 0, 0, 0, 1, 0, 2, 1, 0, 2, 0,\n",
       "       1, 1, 0, 0, 1])"
      ]
     },
     "execution_count": 8,
     "metadata": {},
     "output_type": "execute_result"
    }
   ],
   "source": [
    "training_set.target"
   ]
  },
  {
   "cell_type": "code",
   "execution_count": 9,
   "metadata": {},
   "outputs": [
    {
     "data": {
      "text/plain": [
       "['green', 'red', 'blue']"
      ]
     },
     "execution_count": 9,
     "metadata": {},
     "output_type": "execute_result"
    }
   ],
   "source": [
    "colorDict = [\"green\", \"red\", \"blue\"]\n",
    "colorDict"
   ]
  },
  {
   "cell_type": "code",
   "execution_count": 10,
   "metadata": {},
   "outputs": [],
   "source": [
    "colors = []\n",
    "for target in training_set.target:\n",
    "    colors.append(colorDict[target])"
   ]
  },
  {
   "cell_type": "code",
   "execution_count": 11,
   "metadata": {},
   "outputs": [],
   "source": [
    "dataX = training_set.data[:,0]"
   ]
  },
  {
   "cell_type": "code",
   "execution_count": 12,
   "metadata": {
    "collapsed": true
   },
   "outputs": [],
   "source": [
    "dataY = training_set.data[:,1]"
   ]
  },
  {
   "cell_type": "code",
   "execution_count": 13,
   "metadata": {},
   "outputs": [
    {
     "data": {
      "image/png": "[encoded data removed]",
      "text/plain": [
       "<matplotlib.figure.Figure at 0x13c6f289eb8>"
      ]
     },
     "metadata": {},
     "output_type": "display_data"
    }
   ],
   "source": [
    "plt.scatter(dataX, dataY, c=colors, s=20) # , cmap=plt.cm.cool)\n",
    "plt.show()"
   ]
  },
  {
   "cell_type": "code",
   "execution_count": 14,
   "metadata": {
    "collapsed": true
   },
   "outputs": [],
   "source": [
    "# Specify that all features have real-value data\n",
    "feature_columns = [tf.contrib.layers.real_valued_column(\"\", dimension=4)]"
   ]
  },
  {
   "cell_type": "code",
   "execution_count": 15,
   "metadata": {},
   "outputs": [
    {
     "name": "stdout",
     "output_type": "stream",
     "text": [
      "INFO:tensorflow:Using default config.\n",
      "INFO:tensorflow:Using config: {'_num_worker_replicas': 0, '_num_ps_replicas': 0, '_session_config': None, '_save_summary_steps': 100, '_keep_checkpoint_every_n_hours': 10000, '_tf_config': gpu_options {\n",
      "  per_process_gpu_memory_fraction: 1\n",
      "}\n",
      ", '_evaluation_master': '', '_tf_random_seed': None, '_model_dir': '/tmp/iris_model9', '_keep_checkpoint_max': 5, '_save_checkpoints_steps': None, '_cluster_spec': <tensorflow.python.training.server_lib.ClusterSpec object at 0x0000013C70EB04A8>, '_task_type': None, '_save_checkpoints_secs': 600, '_task_id': 0, '_master': '', '_is_chief': True, '_environment': 'local'}\n"
     ]
    }
   ],
   "source": [
    "classifier = tf.contrib.learn.DNNClassifier(feature_columns=feature_columns,\n",
    "                                            hidden_units=[10, 20, 10],\n",
    "                                            n_classes=3,\n",
    "                                            model_dir=\"/tmp/iris_model9\")"
   ]
  },
  {
   "cell_type": "code",
   "execution_count": 16,
   "metadata": {},
   "outputs": [
    {
     "name": "stdout",
     "output_type": "stream",
     "text": [
      "WARNING:tensorflow:From c:\\program files\\python35\\lib\\site-packages\\tensorflow\\contrib\\learn\\python\\learn\\estimators\\head.py:625: scalar_summary (from tensorflow.python.ops.logging_ops) is deprecated and will be removed after 2016-11-30.\n",
      "Instructions for updating:\n",
      "Please switch to tf.summary.scalar. Note that tf.summary.scalar uses the node name instead of the tag. This means that TensorFlow will automatically de-duplicate summary names based on the scope they are created in. Also, passing a tensor or list of tags to a scalar summary op is no longer supported.\n",
      "INFO:tensorflow:Create CheckpointSaverHook.\n",
      "INFO:tensorflow:Restoring parameters from /tmp/iris_model9\\model.ckpt-12000\n",
      "INFO:tensorflow:Saving checkpoints for 12001 into /tmp/iris_model9\\model.ckpt.\n",
      "INFO:tensorflow:loss = 0.0220505, step = 12001\n",
      "INFO:tensorflow:global_step/sec: 1272.98\n",
      "INFO:tensorflow:loss = 0.022013, step = 12101 (0.080 sec)\n",
      "INFO:tensorflow:global_step/sec: 1407.42\n",
      "INFO:tensorflow:loss = 0.0219777, step = 12201 (0.075 sec)\n",
      "INFO:tensorflow:global_step/sec: 1323.55\n",
      "INFO:tensorflow:loss = 0.0220106, step = 12301 (0.072 sec)\n",
      "INFO:tensorflow:global_step/sec: 1256.94\n",
      "INFO:tensorflow:loss = 0.0218882, step = 12401 (0.080 sec)\n",
      "INFO:tensorflow:global_step/sec: 1256.96\n",
      "INFO:tensorflow:loss = 0.0218571, step = 12501 (0.080 sec)\n",
      "INFO:tensorflow:global_step/sec: 1297.77\n",
      "INFO:tensorflow:loss = 0.0218216, step = 12601 (0.077 sec)\n",
      "INFO:tensorflow:global_step/sec: 1281.1\n",
      "INFO:tensorflow:loss = 0.0217793, step = 12701 (0.078 sec)\n",
      "INFO:tensorflow:global_step/sec: 1264.91\n",
      "INFO:tensorflow:loss = 0.0217399, step = 12801 (0.081 sec)\n",
      "INFO:tensorflow:global_step/sec: 1281.14\n",
      "INFO:tensorflow:loss = 0.0217084, step = 12901 (0.077 sec)\n",
      "INFO:tensorflow:global_step/sec: 1407.43\n",
      "INFO:tensorflow:loss = 0.0216733, step = 13001 (0.072 sec)\n",
      "INFO:tensorflow:global_step/sec: 1407.42\n",
      "INFO:tensorflow:loss = 0.0216261, step = 13101 (0.074 sec)\n",
      "INFO:tensorflow:global_step/sec: 1297.7\n",
      "INFO:tensorflow:loss = 0.0215977, step = 13201 (0.078 sec)\n",
      "INFO:tensorflow:global_step/sec: 1341.38\n",
      "INFO:tensorflow:loss = 0.021566, step = 13301 (0.071 sec)\n",
      "INFO:tensorflow:global_step/sec: 1297.75\n",
      "INFO:tensorflow:loss = 0.0216316, step = 13401 (0.078 sec)\n",
      "INFO:tensorflow:global_step/sec: 1297.78\n",
      "INFO:tensorflow:loss = 0.0214884, step = 13501 (0.076 sec)\n",
      "INFO:tensorflow:global_step/sec: 1161.24\n",
      "INFO:tensorflow:loss = 0.0214611, step = 13601 (0.087 sec)\n",
      "INFO:tensorflow:global_step/sec: 1168.75\n",
      "INFO:tensorflow:loss = 0.0214304, step = 13701 (0.086 sec)\n",
      "INFO:tensorflow:global_step/sec: 1241.34\n",
      "INFO:tensorflow:loss = 0.0214353, step = 13801 (0.080 sec)\n",
      "INFO:tensorflow:global_step/sec: 1103.36\n",
      "INFO:tensorflow:loss = 0.021357, step = 13901 (0.096 sec)\n",
      "INFO:tensorflow:global_step/sec: 865.176\n",
      "INFO:tensorflow:loss = 0.0213306, step = 14001 (0.117 sec)\n",
      "INFO:tensorflow:global_step/sec: 888.253\n",
      "INFO:tensorflow:loss = 0.0213006, step = 14101 (0.106 sec)\n",
      "INFO:tensorflow:global_step/sec: 1155.24\n",
      "INFO:tensorflow:loss = 0.0212913, step = 14201 (0.090 sec)\n",
      "INFO:tensorflow:global_step/sec: 1241.34\n",
      "INFO:tensorflow:loss = 0.021231, step = 14301 (0.078 sec)\n",
      "INFO:tensorflow:global_step/sec: 1116.38\n",
      "INFO:tensorflow:loss = 0.0212053, step = 14401 (0.089 sec)\n",
      "INFO:tensorflow:global_step/sec: 1256.95\n",
      "INFO:tensorflow:loss = 0.0211765, step = 14501 (0.083 sec)\n",
      "INFO:tensorflow:global_step/sec: 1196.74\n",
      "INFO:tensorflow:loss = 0.0211716, step = 14601 (0.081 sec)\n",
      "INFO:tensorflow:global_step/sec: 1323.55\n",
      "INFO:tensorflow:loss = 0.0211097, step = 14701 (0.075 sec)\n",
      "INFO:tensorflow:global_step/sec: 1332.33\n",
      "INFO:tensorflow:loss = 0.0210848, step = 14801 (0.076 sec)\n",
      "INFO:tensorflow:global_step/sec: 1314.87\n",
      "INFO:tensorflow:loss = 0.0210575, step = 14901 (0.076 sec)\n",
      "INFO:tensorflow:Saving checkpoints for 15000 into /tmp/iris_model9\\model.ckpt.\n",
      "INFO:tensorflow:Loss for final step: 0.0208498.\n"
     ]
    },
    {
     "data": {
      "text/plain": [
       "DNNClassifier(params={'gradient_clip_norm': None, 'dropout': None, 'optimizer': None, 'hidden_units': [10, 20, 10], 'activation_fn': <function relu at 0x0000013C6C5C59D8>, 'head': <tensorflow.contrib.learn.python.learn.estimators.head._MultiClassHead object at 0x0000013C70F04978>, 'embedding_lr_multipliers': None, 'input_layer_min_slice_size': None, 'feature_columns': (_RealValuedColumn(column_name='', dimension=4, default_value=None, dtype=tf.float32, normalizer=None),)})"
      ]
     },
     "execution_count": 16,
     "metadata": {},
     "output_type": "execute_result"
    }
   ],
   "source": [
    "classifier.fit(input_fn=get_train_inputs, steps=3000)"
   ]
  },
  {
   "cell_type": "code",
   "execution_count": 17,
   "metadata": {},
   "outputs": [
    {
     "name": "stdout",
     "output_type": "stream",
     "text": [
      "WARNING:tensorflow:From c:\\program files\\python35\\lib\\site-packages\\tensorflow\\contrib\\learn\\python\\learn\\estimators\\head.py:625: scalar_summary (from tensorflow.python.ops.logging_ops) is deprecated and will be removed after 2016-11-30.\n",
      "Instructions for updating:\n",
      "Please switch to tf.summary.scalar. Note that tf.summary.scalar uses the node name instead of the tag. This means that TensorFlow will automatically de-duplicate summary names based on the scope they are created in. Also, passing a tensor or list of tags to a scalar summary op is no longer supported.\n",
      "INFO:tensorflow:Starting evaluation at 2017-07-25-22:42:35\n",
      "INFO:tensorflow:Restoring parameters from /tmp/iris_model9\\model.ckpt-15000\n",
      "INFO:tensorflow:Evaluation [1/1]\n",
      "INFO:tensorflow:Finished evaluation at 2017-07-25-22:42:35\n",
      "INFO:tensorflow:Saving dict for global step 15000: accuracy = 0.966667, global_step = 15000, loss = 0.231925\n",
      "\n",
      "Test Accuracy: 96.7%\n",
      "\n"
     ]
    }
   ],
   "source": [
    "accuracy_score = classifier.evaluate(input_fn=get_test_inputs, steps=1)[\"accuracy\"]\n",
    "print(\"\\nTest Accuracy: {0:.1f}%\\n\".format(100*accuracy_score))"
   ]
  },
  {
   "cell_type": "code",
   "execution_count": 19,
   "metadata": {},
   "outputs": [],
   "source": [
    "# Classify two new flower samples.\n",
    "def new_samples():\n",
    "  return np.array(\n",
    "    [[6.4, 3.2, 4.5, 1.5],\n",
    "     [5.8, 3.1, 5.0, 1.7]], dtype=np.float32)"
   ]
  },
  {
   "cell_type": "code",
   "execution_count": 20,
   "metadata": {},
   "outputs": [
    {
     "name": "stdout",
     "output_type": "stream",
     "text": [
      "INFO:tensorflow:Restoring parameters from /tmp/iris_model9\\model.ckpt-15000\n"
     ]
    },
    {
     "data": {
      "text/plain": [
       "[1, 1]"
      ]
     },
     "execution_count": 20,
     "metadata": {},
     "output_type": "execute_result"
    }
   ],
   "source": [
    "predictions = list(classifier.predict_classes(input_fn=new_samples))\n",
    "predictions"
   ]
  },
  {
   "cell_type": "code",
   "execution_count": 38,
   "metadata": {},
   "outputs": [
    {
     "data": {
      "image/png": "[encoded data removed]",
      "text/plain": [
       "<matplotlib.figure.Figure at 0x13c72aa6470>"
      ]
     },
     "metadata": {},
     "output_type": "display_data"
    }
   ],
   "source": [
    "plt.scatter(dataX, dataY, c=colors, s=20)\n",
    "plt.scatter(new_samples()[0,0], new_samples()[0,1], c=[\"black\"], marker=\"x\", s=100)\n",
    "plt.show()"
   ]
  },
  {
   "cell_type": "code",
   "execution_count": null,
   "metadata": {
    "collapsed": true
   },
   "outputs": [],
   "source": []
  }
 ],
 "metadata": {
  "kernelspec": {
   "display_name": "Python 3",
   "language": "python",
   "name": "python3"
  },
  "language_info": {
   "codemirror_mode": {
    "name": "ipython",
    "version": 3
   },
   "file_extension": ".py",
   "mimetype": "text/x-python",
   "name": "python",
   "nbconvert_exporter": "python",
   "pygments_lexer": "ipython3",
   "version": "3.5.2"
  }
 },
 "nbformat": 4,
 "nbformat_minor": 2
}
